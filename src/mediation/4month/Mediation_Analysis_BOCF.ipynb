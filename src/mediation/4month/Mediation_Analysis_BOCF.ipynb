{
 "cells": [
  {
   "cell_type": "markdown",
   "metadata": {},
   "source": [
    "## **Mediation Analysis**\n",
    "---"
   ]
  },
  {
   "cell_type": "markdown",
   "metadata": {},
   "source": [
    "## Input"
   ]
  },
  {
   "cell_type": "markdown",
   "metadata": {},
   "source": [
    "### Libraries"
   ]
  },
  {
   "cell_type": "code",
   "execution_count": 1,
   "metadata": {},
   "outputs": [],
   "source": [
    "# Library\n",
    "spsm <- suppressPackageStartupMessages # It's a library, so silence please!\n",
    "spsm(library(dplyr))\n",
    "spsm(library(tidyverse))\n",
    "spsm(library(FactoMineR))\n",
    "spsm(library(ggplot2))\n",
    "spsm(library(factoextra))\n",
    "spsm(library(corrplot))\n",
    "spsm(library(mediation))\n",
    "spsm(library(mosaic))\n",
    "spsm(library(kableExtra))\n",
    "spsm(library(IRdisplay))\n",
    "spsm(library(vioplot))"
   ]
  },
  {
   "cell_type": "markdown",
   "metadata": {},
   "source": [
    "### Ext. Functions"
   ]
  },
  {
   "cell_type": "code",
   "execution_count": 2,
   "metadata": {},
   "outputs": [],
   "source": [
    "# Function\n",
    "source(\"../../utils/getData.R\")\n",
    "source(\"../../utils/getPCs.R\")\n",
    "source(\"../../utils/getPermut.R\")\n",
    "source(\"../../utils/getMediationTable.R\")\n",
    "source(\"../../utils/imputeBOCF.R\")\n",
    "source(\"../../utils/imputeLOCF.R\")"
   ]
  },
  {
   "cell_type": "markdown",
   "metadata": {},
   "source": [
    "### Load data at 4-month"
   ]
  },
  {
   "cell_type": "code",
   "execution_count": 3,
   "metadata": {},
   "outputs": [],
   "source": [
    "# example: dat <- getData(\"../../../data/\", 1)\n",
    "# options: 1: \"SummaryMonths1to4.csv\"\n",
    "#          2: \"SummaryMonths1to12.csv\"\n",
    "#          3: \"SummaryMonths5to12Weight.csv\n",
    "#          4: \"SummaryMonths5to12All.csv\"\n",
    "pathFile <- c(\"../../../data/\")\n",
    "numFile <- 1\n",
    "dat <- getData(pathFile, numFile)"
   ]
  },
  {
   "cell_type": "code",
   "execution_count": 4,
   "metadata": {},
   "outputs": [
    {
     "data": {
      "text/html": [
       "<style>\n",
       ".list-inline {list-style: none; margin:0; padding: 0}\n",
       ".list-inline>li {display: inline-block}\n",
       ".list-inline>li:not(:last-child)::after {content: \"\\00b7\"; padding: 0 .5ex}\n",
       "</style>\n",
       "<ol class=list-inline><li>'id'</li><li>'WeightLoss4Month'</li><li>'WeightLoss12Month'</li><li>'Class4Month'</li><li>'Class12Month'</li><li>'Treatment'</li><li>'Age'</li><li>'Gender'</li><li>'logInitialWeight'</li><li>'NumWeekendDays'</li><li>'NumWeekdayDays'</li><li>'NumWeigh'</li><li>'TotalEntries'</li><li>'TotalFoodDays'</li><li>'TotalExerciseDays'</li><li>'TotalBreakfastDays'</li><li>'TotalLunchDays'</li><li>'TotalDinnerDays'</li><li>'TotalSnackDays'</li><li>'AvgTotalCal'</li><li>'AvgExerciseCal'</li><li>'AvgBreakfastCal'</li><li>'AvgLunchCal'</li><li>'AvgDinnerCal'</li><li>'AvgSnackCal'</li></ol>\n"
      ],
      "text/latex": [
       "\\begin{enumerate*}\n",
       "\\item 'id'\n",
       "\\item 'WeightLoss4Month'\n",
       "\\item 'WeightLoss12Month'\n",
       "\\item 'Class4Month'\n",
       "\\item 'Class12Month'\n",
       "\\item 'Treatment'\n",
       "\\item 'Age'\n",
       "\\item 'Gender'\n",
       "\\item 'logInitialWeight'\n",
       "\\item 'NumWeekendDays'\n",
       "\\item 'NumWeekdayDays'\n",
       "\\item 'NumWeigh'\n",
       "\\item 'TotalEntries'\n",
       "\\item 'TotalFoodDays'\n",
       "\\item 'TotalExerciseDays'\n",
       "\\item 'TotalBreakfastDays'\n",
       "\\item 'TotalLunchDays'\n",
       "\\item 'TotalDinnerDays'\n",
       "\\item 'TotalSnackDays'\n",
       "\\item 'AvgTotalCal'\n",
       "\\item 'AvgExerciseCal'\n",
       "\\item 'AvgBreakfastCal'\n",
       "\\item 'AvgLunchCal'\n",
       "\\item 'AvgDinnerCal'\n",
       "\\item 'AvgSnackCal'\n",
       "\\end{enumerate*}\n"
      ],
      "text/markdown": [
       "1. 'id'\n",
       "2. 'WeightLoss4Month'\n",
       "3. 'WeightLoss12Month'\n",
       "4. 'Class4Month'\n",
       "5. 'Class12Month'\n",
       "6. 'Treatment'\n",
       "7. 'Age'\n",
       "8. 'Gender'\n",
       "9. 'logInitialWeight'\n",
       "10. 'NumWeekendDays'\n",
       "11. 'NumWeekdayDays'\n",
       "12. 'NumWeigh'\n",
       "13. 'TotalEntries'\n",
       "14. 'TotalFoodDays'\n",
       "15. 'TotalExerciseDays'\n",
       "16. 'TotalBreakfastDays'\n",
       "17. 'TotalLunchDays'\n",
       "18. 'TotalDinnerDays'\n",
       "19. 'TotalSnackDays'\n",
       "20. 'AvgTotalCal'\n",
       "21. 'AvgExerciseCal'\n",
       "22. 'AvgBreakfastCal'\n",
       "23. 'AvgLunchCal'\n",
       "24. 'AvgDinnerCal'\n",
       "25. 'AvgSnackCal'\n",
       "\n",
       "\n"
      ],
      "text/plain": [
       " [1] \"id\"                 \"WeightLoss4Month\"   \"WeightLoss12Month\" \n",
       " [4] \"Class4Month\"        \"Class12Month\"       \"Treatment\"         \n",
       " [7] \"Age\"                \"Gender\"             \"logInitialWeight\"  \n",
       "[10] \"NumWeekendDays\"     \"NumWeekdayDays\"     \"NumWeigh\"          \n",
       "[13] \"TotalEntries\"       \"TotalFoodDays\"      \"TotalExerciseDays\" \n",
       "[16] \"TotalBreakfastDays\" \"TotalLunchDays\"     \"TotalDinnerDays\"   \n",
       "[19] \"TotalSnackDays\"     \"AvgTotalCal\"        \"AvgExerciseCal\"    \n",
       "[22] \"AvgBreakfastCal\"    \"AvgLunchCal\"        \"AvgDinnerCal\"      \n",
       "[25] \"AvgSnackCal\"       "
      ]
     },
     "metadata": {},
     "output_type": "display_data"
    }
   ],
   "source": [
    "names(dat)"
   ]
  },
  {
   "cell_type": "markdown",
   "metadata": {},
   "source": [
    "### Data description"
   ]
  },
  {
   "cell_type": "markdown",
   "metadata": {},
   "source": [
    "The data variables used in our mediation analysis are described as follows:   \n",
    "* *Treatment* is the treatment assignment variable, where it equals 0 for self-paced subjects and 1 for counselor-initiated subjects.  \n",
    "\n",
    "* *WeightLoss4Month* is a log-ratio indicating the rate of weight change at four months with respect to the baseline weight. If the value is positive, it indicates a weight loss; if it is negative, it corresponds to gain, and 0 indicates no change between 4 months and baseline.\n",
    "* The potential mediators that we plan to analyze are the *self-weighing* variable and the principal components derived from the electronically collected variables' PCA. The logging variables quantify logging behavior in a number of days, and the caloric variables assess caloric intake and output. The logging and caloric variables are estimated over 4 months for the 4-month mediation analysis and 12 months for the 12-month mediation analysis. The average caloric variables quantify the sum of the calories divided by the total number of logged days. For example, *AvgBreakfastCal* equals the sum of intake calories reported at breakfast divided by the total number of days when breakfast was logged.\n",
    "\n",
    "   \n",
    "| Logging            | Caloric         |\n",
    "|--------------------|-----------------|\n",
    "| NumWeekendDays     | AvgTotalCal     | \n",
    "| NumWeekdayDays     | AvgExerciseCal  |\n",
    "| TotalEntries       | AvgBreakfastCal |\n",
    "| TotalFoodDays      | AvgLunchCal     |\n",
    "| TotalExerciseDays  | AvgDinnerCal    |\n",
    "| TotalBreakfastDays | AvgSnackCal     |\n",
    "| TotalLunchDays     |                 |\n",
    "| TotalDinnerDays    |                 |\n",
    "| TotalSnackDays     |                 |\n",
    "\n"
   ]
  },
  {
   "cell_type": "markdown",
   "metadata": {},
   "source": [
    "---\n",
    "## Principal Component Analysis\n",
    "\n",
    "Applying a PCA (principal component analysis) reduces the number of variables and adresses the multicollinearity of the electronically collected variables.\n"
   ]
  },
  {
   "cell_type": "markdown",
   "metadata": {},
   "source": [
    "### Variables selection"
   ]
  },
  {
   "cell_type": "code",
   "execution_count": 5,
   "metadata": {},
   "outputs": [],
   "source": [
    "# Select the variable indexes to include in the Principal Component Analysis\n",
    "myCols <-c(\"NumWeekendDays\",\"NumWeekdayDays\", \"TotalEntries\", \"TotalFoodDays\", \"TotalExerciseDays\",\n",
    "          \"TotalBreakfastDays\", \"TotalLunchDays\", \"TotalDinnerDays\", \"TotalSnackDays\", \"AvgTotalCal\", \n",
    "           \"AvgExerciseCal\", \"AvgBreakfastCal\", \"AvgLunchCal\", \"AvgDinnerCal\", \"AvgSnackCal\")\n",
    "# Get the indexes of those variables\n",
    "idxApp <- match(myCols, colnames(dat))"
   ]
  },
  {
   "cell_type": "markdown",
   "metadata": {},
   "source": [
    "### Apply the PCA"
   ]
  },
  {
   "cell_type": "code",
   "execution_count": 6,
   "metadata": {},
   "outputs": [
    {
     "name": "stderr",
     "output_type": "stream",
     "text": [
      "Registered S3 methods overwritten by 'car':\n",
      "  method                          from\n",
      "  influence.merMod                lme4\n",
      "  cooks.distance.influence.merMod lme4\n",
      "  dfbeta.influence.merMod         lme4\n",
      "  dfbetas.influence.merMod        lme4\n",
      "\n"
     ]
    }
   ],
   "source": [
    "# Get the results of PCA\n",
    "resPC <- getPCs(dat, idxApp, numPCs = 3) # max numPCs is 5\n",
    "# Get the data frame including the first three principal components named app1, app2, app3.\n",
    "dat <- resPC$data"
   ]
  },
  {
   "cell_type": "code",
   "execution_count": 7,
   "metadata": {},
   "outputs": [
    {
     "name": "stdout",
     "output_type": "stream",
     "text": [
      "[1] \"id\"               \"WeightLoss4Month\" \"Treatment\"        \"Age\"             \n",
      "[5] \"NumWeigh\"         \"App1\"             \"App2\"             \"App3\"            \n"
     ]
    }
   ],
   "source": [
    "# Display the variables name\n",
    "# print(names(dat))\n",
    "# Select variables of interest\n",
    "if (numFile == 1){\n",
    "  myCols <-c(\"id\",\"WeightLoss4Month\", \"Treatment\", \"Age\", \"NumWeigh\", \"App1\", \"App2\", \"App3\")  \n",
    "} else {\n",
    "  myCols <-c(\"id\",\"WeightLoss12Month\", \"WeightLoss4Month\", \"Treatment\", \"Age\", \"NumWeigh\", \"App1\", \"App2\", \"App3\")      \n",
    "}\n",
    "\n",
    "myIdx <- match(myCols, colnames(dat))\n",
    "dat <- dat[, myIdx]\n",
    "print(names(dat))"
   ]
  },
  {
   "cell_type": "markdown",
   "metadata": {},
   "source": [
    "### Display PCA results"
   ]
  },
  {
   "cell_type": "code",
   "execution_count": 8,
   "metadata": {},
   "outputs": [
    {
     "data": {
      "image/png": "[encoded data removed]",
      "text/plain": [
       "plot without title"
      ]
     },
     "metadata": {
      "image/png": {
       "height": 300,
       "width": 900
      }
     },
     "output_type": "display_data"
    }
   ],
   "source": [
    "# resPC contains also the scree plot{scree.plot}, cumulative variance explained {CV.plot}, \n",
    "# the variables contribution of each component {contribCorr.plot()} and the quality of those \n",
    "# contributions {cos2Corr.plot()}.\n",
    "options(repr.plot.width = 15, repr.plot.height = 5)\n",
    "resPC$CV.plot"
   ]
  },
  {
   "cell_type": "code",
   "execution_count": 9,
   "metadata": {},
   "outputs": [
    {
     "data": {
      "image/png": "[encoded data removed]",
      "text/plain": [
       "Plot with title \"Contribution of Variables\""
      ]
     },
     "metadata": {
      "image/png": {
       "height": 420,
       "width": 900
      }
     },
     "output_type": "display_data"
    }
   ],
   "source": [
    "options(repr.plot.width = 15, repr.plot.height = 7)\n",
    "resPC$contribCorr.plot(1.5) # to get numbers use resPC$contribCorrNum.plot()"
   ]
  },
  {
   "cell_type": "code",
   "execution_count": 10,
   "metadata": {},
   "outputs": [
    {
     "data": {
      "image/png": "[encoded data removed]",
      "text/plain": [
       "Plot with title \"Quality of Representation of Variables\""
      ]
     },
     "metadata": {
      "image/png": {
       "height": 420,
       "width": 900
      }
     },
     "output_type": "display_data"
    }
   ],
   "source": [
    "options(repr.plot.width = 15, repr.plot.height = 7)\n",
    "resPC$cos2Corr.plot(1.5) # to get numbers use resPC$cos2CorrNum.plot()"
   ]
  },
  {
   "cell_type": "markdown",
   "metadata": {},
   "source": [
    "---\n",
    "## Analysis"
   ]
  },
  {
   "cell_type": "markdown",
   "metadata": {},
   "source": [
    "The first step of the mediation analysis is to establish if our candidates variables are mediators or not.    \n",
    "**To analyze the mediation we observe the following flowchart:**\n",
    "\n",
    "![alt text](images/Mediation_flowchart.svg \"Mediation Analysis flowchart\")\n",
    "\n",
    "**We first estimated two linear regressions for both the mediator and the outcome. We used also a permutation test to assess any associations with respect to our samples.**"
   ]
  },
  {
   "cell_type": "markdown",
   "metadata": {},
   "source": [
    "**Clean the data:** *impute with Baseline Observation Carried Forward algorithm*"
   ]
  },
  {
   "cell_type": "code",
   "execution_count": 11,
   "metadata": {},
   "outputs": [],
   "source": [
    "dat <-  dat <- imputeBOCF(dat, response = \"4-month\")"
   ]
  },
  {
   "cell_type": "markdown",
   "metadata": {},
   "source": [
    "---\n",
    "### Relationship association assessment\n",
    "\n",
    "We will consider the following assumptions:\n",
    "\n",
    "* App usage and Number of self-weiging are casually unrelated mediators.\n",
    "* Observed confounder is : age. "
   ]
  },
  {
   "cell_type": "markdown",
   "metadata": {},
   "source": [
    "#### **Regression of weight loss on the treatment.**"
   ]
  },
  {
   "cell_type": "code",
   "execution_count": 12,
   "metadata": {},
   "outputs": [
    {
     "data": {
      "text/plain": [
       "\n",
       "Call:\n",
       "lm(formula = WeightLoss4Month ~ Treatment + Age, data = dat)\n",
       "\n",
       "Residuals:\n",
       "     Min       1Q   Median       3Q      Max \n",
       "-0.06795 -0.02433 -0.00409  0.01578  0.18390 \n",
       "\n",
       "Coefficients:\n",
       "              Estimate Std. Error t value Pr(>|t|)    \n",
       "(Intercept) -0.0204494  0.0127192  -1.608    0.110    \n",
       "Treatment    0.0311281  0.0054047   5.759 3.39e-08 ***\n",
       "Age          0.0007652  0.0003563   2.147    0.033 *  \n",
       "---\n",
       "Signif. codes:  0 '***' 0.001 '**' 0.01 '*' 0.05 '.' 0.1 ' ' 1\n",
       "\n",
       "Residual standard error: 0.03702 on 188 degrees of freedom\n",
       "Multiple R-squared:  0.1786,\tAdjusted R-squared:  0.1698 \n",
       "F-statistic: 20.44 on 2 and 188 DF,  p-value: 9.31e-09\n"
      ]
     },
     "metadata": {},
     "output_type": "display_data"
    }
   ],
   "source": [
    "# Outcome model with confounders\n",
    "out.fit <- lm(WeightLoss4Month ~ Treatment + Age, data = dat)\n",
    "#  out.fit <- lm(WeightLoss12Month ~ Treatment + Age + Gender + logInitialWeight , data = dat)\n",
    "summary(out.fit)"
   ]
  },
  {
   "cell_type": "markdown",
   "metadata": {},
   "source": [
    "#### **Permutation test: Weight loss ~ treatment assignment**"
   ]
  },
  {
   "cell_type": "code",
   "execution_count": 13,
   "metadata": {},
   "outputs": [
    {
     "name": "stdout",
     "output_type": "stream",
     "text": [
      "The mean weight loss for intervention is: 0.03787648 \n",
      "The mean weight loss for no intervention is: 0.005514997 \n",
      "The absolute t-test statistic is:  6.115735 \n",
      "Number of permutation sample: 10000 \n",
      "P-value with t-test for 10000 samples is 0 .\n"
     ]
    },
    {
     "data": {
      "image/png": "[encoded data removed]",
      "text/plain": [
       "Plot with title \"Weight Loss\""
      ]
     },
     "metadata": {
      "image/png": {
       "height": 300,
       "width": 600
      }
     },
     "output_type": "display_data"
    },
    {
     "data": {
      "image/png": "[encoded data removed]",
      "text/plain": [
       "Plot with title \"Permutation Test Stats\""
      ]
     },
     "metadata": {
      "image/png": {
       "height": 300,
       "width": 600
      }
     },
     "output_type": "display_data"
    }
   ],
   "source": [
    "options(repr.plot.width = 10, repr.plot.height = 5)\n",
    "getPermut(dat$WeightLoss4Month, dat$Treatment, P = 10000)"
   ]
  },
  {
   "cell_type": "markdown",
   "metadata": {},
   "source": [
    "***We confirmed that the treatment has a statistically significant predictive capability on weight loss outcome.***"
   ]
  },
  {
   "cell_type": "markdown",
   "metadata": {},
   "source": [
    "#### **Regression of App-usage (*i.e.*, PC1 ) on the treatment.**"
   ]
  },
  {
   "cell_type": "code",
   "execution_count": 14,
   "metadata": {},
   "outputs": [
    {
     "data": {
      "text/plain": [
       "\n",
       "Call:\n",
       "lm(formula = App1 ~ Treatment + Age, data = dat)\n",
       "\n",
       "Residuals:\n",
       "    Min      1Q  Median      3Q     Max \n",
       "-5.6535 -1.4442  0.3063  1.5161  6.2694 \n",
       "\n",
       "Coefficients:\n",
       "            Estimate Std. Error t value Pr(>|t|)    \n",
       "(Intercept) -3.81460    0.78912  -4.834 2.77e-06 ***\n",
       "Treatment    3.40036    0.33531  10.141  < 2e-16 ***\n",
       "Age          0.05692    0.02211   2.575   0.0108 *  \n",
       "---\n",
       "Signif. codes:  0 '***' 0.001 '**' 0.01 '*' 0.05 '.' 0.1 ' ' 1\n",
       "\n",
       "Residual standard error: 2.297 on 188 degrees of freedom\n",
       "Multiple R-squared:  0.3822,\tAdjusted R-squared:  0.3757 \n",
       "F-statistic: 58.16 on 2 and 188 DF,  p-value: < 2.2e-16\n"
      ]
     },
     "metadata": {},
     "output_type": "display_data"
    }
   ],
   "source": [
    "# Outcome model with confounders\n",
    "out.fit <- lm(App1 ~ Treatment + Age, data = dat)\n",
    "summary(out.fit)"
   ]
  },
  {
   "cell_type": "markdown",
   "metadata": {},
   "source": [
    "#### **Permutation test: App-usage ~ treatment assignment**"
   ]
  },
  {
   "cell_type": "code",
   "execution_count": 15,
   "metadata": {},
   "outputs": [
    {
     "name": "stdout",
     "output_type": "stream",
     "text": [
      "The mean weight loss for intervention is: 1.608928 \n",
      "The mean weight loss for no intervention is: -1.883177 \n",
      "The absolute t-test statistic is:  10.16258 \n",
      "Number of permutation sample: 10000 \n",
      "P-value with t-test for 10000 samples is 0 .\n"
     ]
    },
    {
     "data": {
      "image/png": "[encoded data removed]",
      "text/plain": [
       "Plot with title \"Weight Loss\""
      ]
     },
     "metadata": {
      "image/png": {
       "height": 300,
       "width": 600
      }
     },
     "output_type": "display_data"
    },
    {
     "data": {
      "image/png": "[encoded data removed]",
      "text/plain": [
       "Plot with title \"Permutation Test Stats\""
      ]
     },
     "metadata": {
      "image/png": {
       "height": 300,
       "width": 600
      }
     },
     "output_type": "display_data"
    }
   ],
   "source": [
    "getPermut(dat$App1, dat$Treatment, P = 10000)"
   ]
  },
  {
   "cell_type": "markdown",
   "metadata": {},
   "source": [
    "#### **Regression of App-calories (*i.e.*, PC2 ) on the treatment.**"
   ]
  },
  {
   "cell_type": "code",
   "execution_count": 16,
   "metadata": {},
   "outputs": [
    {
     "data": {
      "text/plain": [
       "\n",
       "Call:\n",
       "lm(formula = App2 ~ Treatment + Age, data = dat)\n",
       "\n",
       "Residuals:\n",
       "    Min      1Q  Median      3Q     Max \n",
       "-4.9883 -0.9630  0.0421  0.9571  4.7680 \n",
       "\n",
       "Coefficients:\n",
       "            Estimate Std. Error t value Pr(>|t|)  \n",
       "(Intercept) -0.79785    0.55394   -1.44   0.1514  \n",
       "Treatment    0.43784    0.23538    1.86   0.0644 .\n",
       "Age          0.01614    0.01552    1.04   0.2996  \n",
       "---\n",
       "Signif. codes:  0 '***' 0.001 '**' 0.01 '*' 0.05 '.' 0.1 ' ' 1\n",
       "\n",
       "Residual standard error: 1.612 on 188 degrees of freedom\n",
       "Multiple R-squared:  0.02596,\tAdjusted R-squared:  0.01559 \n",
       "F-statistic: 2.505 on 2 and 188 DF,  p-value: 0.08441\n"
      ]
     },
     "metadata": {},
     "output_type": "display_data"
    }
   ],
   "source": [
    "# Outcome model with confounders\n",
    "out.fit <- lm(App2 ~ Treatment + Age, data = dat)\n",
    "summary(out.fit)"
   ]
  },
  {
   "cell_type": "markdown",
   "metadata": {},
   "source": [
    "#### **Permutation test: App-calories ~ treatment assignment**"
   ]
  },
  {
   "cell_type": "code",
   "execution_count": 17,
   "metadata": {},
   "outputs": [
    {
     "name": "stdout",
     "output_type": "stream",
     "text": [
      "The mean weight loss for intervention is: 0.2137161 \n",
      "The mean weight loss for no intervention is: -0.2501449 \n",
      "The absolute t-test statistic is:  1.928441 \n",
      "Number of permutation sample: 10000 \n",
      "P-value with t-test for 10000 samples is 0.0557 .\n"
     ]
    },
    {
     "data": {
      "image/png": "[encoded data removed]",
      "text/plain": [
       "Plot with title \"Weight Loss\""
      ]
     },
     "metadata": {
      "image/png": {
       "height": 300,
       "width": 600
      }
     },
     "output_type": "display_data"
    },
    {
     "data": {
      "image/png": "[encoded data removed]",
      "text/plain": [
       "Plot with title \"Permutation Test Stats\""
      ]
     },
     "metadata": {
      "image/png": {
       "height": 300,
       "width": 600
      }
     },
     "output_type": "display_data"
    }
   ],
   "source": [
    "getPermut(dat$App2, dat$Treatment, P = 10000)"
   ]
  },
  {
   "cell_type": "markdown",
   "metadata": {},
   "source": [
    "#### **Regression of App-exercise (*i.e.*, PC3 ) on the treatment.**"
   ]
  },
  {
   "cell_type": "code",
   "execution_count": 18,
   "metadata": {},
   "outputs": [
    {
     "data": {
      "text/plain": [
       "\n",
       "Call:\n",
       "lm(formula = App3 ~ Treatment + Age, data = dat)\n",
       "\n",
       "Residuals:\n",
       "    Min      1Q  Median      3Q     Max \n",
       "-2.1491 -0.9366  0.0657  0.8611  4.1266 \n",
       "\n",
       "Coefficients:\n",
       "            Estimate Std. Error t value Pr(>|t|)  \n",
       "(Intercept)  0.83482    0.40282   2.072   0.0396 *\n",
       "Treatment   -0.05569    0.17117  -0.325   0.7453  \n",
       "Age         -0.02313    0.01129  -2.049   0.0418 *\n",
       "---\n",
       "Signif. codes:  0 '***' 0.001 '**' 0.01 '*' 0.05 '.' 0.1 ' ' 1\n",
       "\n",
       "Residual standard error: 1.172 on 188 degrees of freedom\n",
       "Multiple R-squared:  0.02336,\tAdjusted R-squared:  0.01297 \n",
       "F-statistic: 2.249 on 2 and 188 DF,  p-value: 0.1084\n"
      ]
     },
     "metadata": {},
     "output_type": "display_data"
    }
   ],
   "source": [
    "# Outcome model with confounders\n",
    "out.fit <- lm(App3 ~ Treatment + Age, data = dat)\n",
    "summary(out.fit)"
   ]
  },
  {
   "cell_type": "markdown",
   "metadata": {},
   "source": [
    "#### **Permutation test: App-exercise ~ treatment assignment**"
   ]
  },
  {
   "cell_type": "code",
   "execution_count": 19,
   "metadata": {},
   "outputs": [
    {
     "name": "stdout",
     "output_type": "stream",
     "text": [
      "The mean weight loss for intervention is: -0.04283059 \n",
      "The mean weight loss for no intervention is: 0.05013126 \n",
      "The absolute t-test statistic is:  0.5479982 \n",
      "Number of permutation sample: 10000 \n",
      "P-value with t-test for 10000 samples is 0.5896 .\n"
     ]
    },
    {
     "data": {
      "image/png": "[encoded data removed]",
      "text/plain": [
       "Plot with title \"Weight Loss\""
      ]
     },
     "metadata": {
      "image/png": {
       "height": 300,
       "width": 600
      }
     },
     "output_type": "display_data"
    },
    {
     "data": {
      "image/png": "[encoded data removed]",
      "text/plain": [
       "Plot with title \"Permutation Test Stats\""
      ]
     },
     "metadata": {
      "image/png": {
       "height": 300,
       "width": 600
      }
     },
     "output_type": "display_data"
    }
   ],
   "source": [
    "getPermut(dat$App3, dat$Treatment, P = 10000)"
   ]
  },
  {
   "cell_type": "markdown",
   "metadata": {},
   "source": [
    "#### **Regression of Self-weight on the treatment.**"
   ]
  },
  {
   "cell_type": "code",
   "execution_count": 20,
   "metadata": {},
   "outputs": [
    {
     "data": {
      "text/plain": [
       "\n",
       "Call:\n",
       "lm(formula = NumWeigh ~ Treatment + Age, data = dat)\n",
       "\n",
       "Residuals:\n",
       "    Min      1Q  Median      3Q     Max \n",
       "-86.346 -22.141   2.394  23.058  67.051 \n",
       "\n",
       "Coefficients:\n",
       "            Estimate Std. Error t value Pr(>|t|)    \n",
       "(Intercept)  32.6754    10.4110   3.139  0.00197 ** \n",
       "Treatment    32.9857     4.4239   7.456 3.17e-12 ***\n",
       "Age           0.6301     0.2917   2.160  0.03201 *  \n",
       "---\n",
       "Signif. codes:  0 '***' 0.001 '**' 0.01 '*' 0.05 '.' 0.1 ' ' 1\n",
       "\n",
       "Residual standard error: 30.3 on 188 degrees of freedom\n",
       "Multiple R-squared:  0.2552,\tAdjusted R-squared:  0.2473 \n",
       "F-statistic: 32.21 on 2 and 188 DF,  p-value: 9.377e-13\n"
      ]
     },
     "metadata": {},
     "output_type": "display_data"
    }
   ],
   "source": [
    "# Outcome model with confounders\n",
    "out.fit <- lm(NumWeigh ~ Treatment + Age, data = dat)\n",
    "summary(out.fit)"
   ]
  },
  {
   "cell_type": "markdown",
   "metadata": {},
   "source": [
    "#### **Permutation test: Self-weight ~ treatment assignment**"
   ]
  },
  {
   "cell_type": "code",
   "execution_count": 21,
   "metadata": {},
   "outputs": [
    {
     "name": "stdout",
     "output_type": "stream",
     "text": [
      "The mean weight loss for intervention is: 88.05825 \n",
      "The mean weight loss for no intervention is: 54.05682 \n",
      "The absolute t-test statistic is:  7.601597 \n",
      "Number of permutation sample: 10000 \n",
      "P-value with t-test for 10000 samples is 0 .\n"
     ]
    },
    {
     "data": {
      "image/png": "[encoded data removed]",
      "text/plain": [
       "Plot with title \"Weight Loss\""
      ]
     },
     "metadata": {
      "image/png": {
       "height": 300,
       "width": 600
      }
     },
     "output_type": "display_data"
    },
    {
     "data": {
      "image/png": "[encoded data removed]",
      "text/plain": [
       "Plot with title \"Permutation Test Stats\""
      ]
     },
     "metadata": {
      "image/png": {
       "height": 300,
       "width": 600
      }
     },
     "output_type": "display_data"
    }
   ],
   "source": [
    "getPermut(dat$NumWeigh, dat$Treatment, P = 10000)"
   ]
  },
  {
   "cell_type": "markdown",
   "metadata": {},
   "source": [
    "***We confirmed that the treatment has a statistically significant predictive capability on all potential mediators except for the app-exercise. Since app-usage variable (i.e., PC1) explained more than 55% of the variance, we considered only app-usage and self-weight variables for the mediation analysis for the 4 month-weight loss.***"
   ]
  },
  {
   "cell_type": "markdown",
   "metadata": {},
   "source": [
    "#### **Regression of outcome on the treatment and mediators.**"
   ]
  },
  {
   "cell_type": "markdown",
   "metadata": {},
   "source": [
    "**First, let us consider only App1 as mediator.**"
   ]
  },
  {
   "cell_type": "markdown",
   "metadata": {},
   "source": [
    "---\n",
    "## Mediation"
   ]
  },
  {
   "cell_type": "markdown",
   "metadata": {},
   "source": [
    "**Our function `getMediationTable` to estimate the Average Causal Mediation Effect (ACME) and the Average Direct Effect (ADE) associated with each mediator is based on  the `mediation` library.**"
   ]
  },
  {
   "cell_type": "code",
   "execution_count": 22,
   "metadata": {},
   "outputs": [
    {
     "name": "stderr",
     "output_type": "stream",
     "text": [
      "Running nonparametric bootstrap\n",
      "\n",
      "\n",
      "Running nonparametric bootstrap\n",
      "\n",
      "\n",
      "Running nonparametric bootstrap\n",
      "\n",
      "\n",
      "Running nonparametric bootstrap\n",
      "\n",
      "\n"
     ]
    },
    {
     "data": {
      "text/html": [
       "<table>\n",
       "<caption>A data.frame: 5 × 10</caption>\n",
       "<thead>\n",
       "\t<tr><th></th><th scope=col>Total Effect</th><th scope=col>Lower CI</th><th scope=col>Upper CI</th><th scope=col>ADE</th><th scope=col>Lower CI</th><th scope=col>Upper CI</th><th scope=col>ACME</th><th scope=col>Lower CI</th><th scope=col>Upper CI</th><th scope=col>Prop. Mediated</th></tr>\n",
       "\t<tr><th></th><th scope=col>&lt;dbl&gt;</th><th scope=col>&lt;dbl&gt;</th><th scope=col>&lt;dbl&gt;</th><th scope=col>&lt;dbl&gt;</th><th scope=col>&lt;dbl&gt;</th><th scope=col>&lt;dbl&gt;</th><th scope=col>&lt;dbl&gt;</th><th scope=col>&lt;dbl&gt;</th><th scope=col>&lt;dbl&gt;</th><th scope=col>&lt;dbl&gt;</th></tr>\n",
       "</thead>\n",
       "<tbody>\n",
       "\t<tr><th scope=row>App usage only</th><td>0.031128</td><td>0.022470</td><td>0.039907</td><td>0.011672</td><td>0.002609</td><td>0.021126</td><td>0.019456</td><td>0.013228</td><td>0.026164</td><td>0.625027</td></tr>\n",
       "\t<tr><th scope=row>Number Weigh-in only</th><td>0.031128</td><td>0.022513</td><td>0.040124</td><td>0.015222</td><td>0.006984</td><td>0.023565</td><td>0.015906</td><td>0.010587</td><td>0.021816</td><td>0.510995</td></tr>\n",
       "\t<tr><th scope=row>App usage with interaction</th><td>0.032023</td><td>0.022716</td><td>0.040303</td><td>0.011366</td><td>0.001678</td><td>0.019805</td><td>0.020657</td><td>0.014181</td><td>0.028003</td><td>0.645054</td></tr>\n",
       "\t<tr><th scope=row>Number Weigh-in with interaction</th><td>0.032131</td><td>0.022555</td><td>0.040118</td><td>0.016065</td><td>0.006858</td><td>0.023604</td><td>0.016067</td><td>0.010703</td><td>0.022204</td><td>0.500026</td></tr>\n",
       "\t<tr><th scope=row>App usage &amp; Number Weigh-in</th><td>0.031128</td><td>0.022549</td><td>0.039988</td><td>0.018804</td><td>0.008696</td><td>0.029642</td><td>0.012324</td><td>0.005281</td><td>0.020098</td><td>0.395926</td></tr>\n",
       "</tbody>\n",
       "</table>\n"
      ],
      "text/latex": [
       "A data.frame: 5 × 10\n",
       "\\begin{tabular}{r|llllllllll}\n",
       "  & Total Effect & Lower CI & Upper CI & ADE & Lower CI & Upper CI & ACME & Lower CI & Upper CI & Prop. Mediated\\\\\n",
       "  & <dbl> & <dbl> & <dbl> & <dbl> & <dbl> & <dbl> & <dbl> & <dbl> & <dbl> & <dbl>\\\\\n",
       "\\hline\n",
       "\tApp usage only & 0.031128 & 0.022470 & 0.039907 & 0.011672 & 0.002609 & 0.021126 & 0.019456 & 0.013228 & 0.026164 & 0.625027\\\\\n",
       "\tNumber Weigh-in only & 0.031128 & 0.022513 & 0.040124 & 0.015222 & 0.006984 & 0.023565 & 0.015906 & 0.010587 & 0.021816 & 0.510995\\\\\n",
       "\tApp usage with interaction & 0.032023 & 0.022716 & 0.040303 & 0.011366 & 0.001678 & 0.019805 & 0.020657 & 0.014181 & 0.028003 & 0.645054\\\\\n",
       "\tNumber Weigh-in with interaction & 0.032131 & 0.022555 & 0.040118 & 0.016065 & 0.006858 & 0.023604 & 0.016067 & 0.010703 & 0.022204 & 0.500026\\\\\n",
       "\tApp usage \\& Number Weigh-in & 0.031128 & 0.022549 & 0.039988 & 0.018804 & 0.008696 & 0.029642 & 0.012324 & 0.005281 & 0.020098 & 0.395926\\\\\n",
       "\\end{tabular}\n"
      ],
      "text/markdown": [
       "\n",
       "A data.frame: 5 × 10\n",
       "\n",
       "| <!--/--> | Total Effect &lt;dbl&gt; | Lower CI &lt;dbl&gt; | Upper CI &lt;dbl&gt; | ADE &lt;dbl&gt; | Lower CI &lt;dbl&gt; | Upper CI &lt;dbl&gt; | ACME &lt;dbl&gt; | Lower CI &lt;dbl&gt; | Upper CI &lt;dbl&gt; | Prop. Mediated &lt;dbl&gt; |\n",
       "|---|---|---|---|---|---|---|---|---|---|---|\n",
       "| App usage only | 0.031128 | 0.022470 | 0.039907 | 0.011672 | 0.002609 | 0.021126 | 0.019456 | 0.013228 | 0.026164 | 0.625027 |\n",
       "| Number Weigh-in only | 0.031128 | 0.022513 | 0.040124 | 0.015222 | 0.006984 | 0.023565 | 0.015906 | 0.010587 | 0.021816 | 0.510995 |\n",
       "| App usage with interaction | 0.032023 | 0.022716 | 0.040303 | 0.011366 | 0.001678 | 0.019805 | 0.020657 | 0.014181 | 0.028003 | 0.645054 |\n",
       "| Number Weigh-in with interaction | 0.032131 | 0.022555 | 0.040118 | 0.016065 | 0.006858 | 0.023604 | 0.016067 | 0.010703 | 0.022204 | 0.500026 |\n",
       "| App usage &amp; Number Weigh-in | 0.031128 | 0.022549 | 0.039988 | 0.018804 | 0.008696 | 0.029642 | 0.012324 | 0.005281 | 0.020098 | 0.395926 |\n",
       "\n"
      ],
      "text/plain": [
       "                                 Total Effect Lower CI Upper CI ADE     \n",
       "App usage only                   0.031128     0.022470 0.039907 0.011672\n",
       "Number Weigh-in only             0.031128     0.022513 0.040124 0.015222\n",
       "App usage with interaction       0.032023     0.022716 0.040303 0.011366\n",
       "Number Weigh-in with interaction 0.032131     0.022555 0.040118 0.016065\n",
       "App usage & Number Weigh-in      0.031128     0.022549 0.039988 0.018804\n",
       "                                 Lower CI Upper CI ACME     Lower CI Upper CI\n",
       "App usage only                   0.002609 0.021126 0.019456 0.013228 0.026164\n",
       "Number Weigh-in only             0.006984 0.023565 0.015906 0.010587 0.021816\n",
       "App usage with interaction       0.001678 0.019805 0.020657 0.014181 0.028003\n",
       "Number Weigh-in with interaction 0.006858 0.023604 0.016067 0.010703 0.022204\n",
       "App usage & Number Weigh-in      0.008696 0.029642 0.012324 0.005281 0.020098\n",
       "                                 Prop. Mediated\n",
       "App usage only                   0.625027      \n",
       "Number Weigh-in only             0.510995      \n",
       "App usage with interaction       0.645054      \n",
       "Number Weigh-in with interaction 0.500026      \n",
       "App usage & Number Weigh-in      0.395926      "
      ]
     },
     "metadata": {},
     "output_type": "display_data"
    }
   ],
   "source": [
    "numFile <- 1\n",
    "rslts <- getMediationTable(dat, myBoot = TRUE, numSims = 10000, confLvl = 0.90) \n",
    "table1 <- rslts$med.tbl\n",
    "table1"
   ]
  },
  {
   "cell_type": "code",
   "execution_count": 23,
   "metadata": {},
   "outputs": [
    {
     "data": {
      "text/html": [
       "<table>\n",
       " <thead>\n",
       "  <tr>\n",
       "   <th style=\"text-align:left;\">   </th>\n",
       "   <th style=\"text-align:right;\"> Total Effect </th>\n",
       "   <th style=\"text-align:right;\"> Lower CI </th>\n",
       "   <th style=\"text-align:right;\"> Upper CI </th>\n",
       "   <th style=\"text-align:right;\"> ADE </th>\n",
       "   <th style=\"text-align:right;\"> Lower CI </th>\n",
       "   <th style=\"text-align:right;\"> Upper CI </th>\n",
       "   <th style=\"text-align:right;\"> ACME </th>\n",
       "   <th style=\"text-align:right;\"> Lower CI </th>\n",
       "   <th style=\"text-align:right;\"> Upper CI </th>\n",
       "   <th style=\"text-align:right;\"> Prop. Mediated </th>\n",
       "  </tr>\n",
       " </thead>\n",
       "<tbody>\n",
       "  <tr>\n",
       "   <td style=\"text-align:left;font-weight: bold;color: blue !important;\"> App usage only </td>\n",
       "   <td style=\"text-align:right;font-weight: bold;color: blue !important;font-weight: bold;color: orange !important;\"> 0.031128 </td>\n",
       "   <td style=\"text-align:right;font-weight: bold;color: blue !important;\"> 0.022470 </td>\n",
       "   <td style=\"text-align:right;font-weight: bold;color: blue !important;\"> 0.039907 </td>\n",
       "   <td style=\"text-align:right;font-weight: bold;color: blue !important;\"> 0.011672 </td>\n",
       "   <td style=\"text-align:right;font-weight: bold;color: blue !important;\"> 0.002609 </td>\n",
       "   <td style=\"text-align:right;font-weight: bold;color: blue !important;\"> 0.021126 </td>\n",
       "   <td style=\"text-align:right;font-weight: bold;color: blue !important;\"> 0.019456 </td>\n",
       "   <td style=\"text-align:right;font-weight: bold;color: blue !important;\"> 0.013228 </td>\n",
       "   <td style=\"text-align:right;font-weight: bold;color: blue !important;\"> 0.026164 </td>\n",
       "   <td style=\"text-align:right;font-weight: bold;color: blue !important;\"> 0.625027 </td>\n",
       "  </tr>\n",
       "  <tr>\n",
       "   <td style=\"text-align:left;font-weight: bold;color: blue !important;\"> Number Weigh-in only </td>\n",
       "   <td style=\"text-align:right;font-weight: bold;color: blue !important;font-weight: bold;color: orange !important;\"> 0.031128 </td>\n",
       "   <td style=\"text-align:right;font-weight: bold;color: blue !important;\"> 0.022513 </td>\n",
       "   <td style=\"text-align:right;font-weight: bold;color: blue !important;\"> 0.040124 </td>\n",
       "   <td style=\"text-align:right;font-weight: bold;color: blue !important;\"> 0.015222 </td>\n",
       "   <td style=\"text-align:right;font-weight: bold;color: blue !important;\"> 0.006984 </td>\n",
       "   <td style=\"text-align:right;font-weight: bold;color: blue !important;\"> 0.023565 </td>\n",
       "   <td style=\"text-align:right;font-weight: bold;color: blue !important;\"> 0.015906 </td>\n",
       "   <td style=\"text-align:right;font-weight: bold;color: blue !important;\"> 0.010587 </td>\n",
       "   <td style=\"text-align:right;font-weight: bold;color: blue !important;\"> 0.021816 </td>\n",
       "   <td style=\"text-align:right;font-weight: bold;color: blue !important;\"> 0.510995 </td>\n",
       "  </tr>\n",
       "  <tr>\n",
       "   <td style=\"text-align:left;font-weight: bold;color: red !important;\"> App usage with interaction </td>\n",
       "   <td style=\"text-align:right;font-weight: bold;color: red !important;font-weight: bold;color: orange !important;\"> 0.032023 </td>\n",
       "   <td style=\"text-align:right;font-weight: bold;color: red !important;\"> 0.022716 </td>\n",
       "   <td style=\"text-align:right;font-weight: bold;color: red !important;\"> 0.040303 </td>\n",
       "   <td style=\"text-align:right;font-weight: bold;color: red !important;\"> 0.011366 </td>\n",
       "   <td style=\"text-align:right;font-weight: bold;color: red !important;\"> 0.001678 </td>\n",
       "   <td style=\"text-align:right;font-weight: bold;color: red !important;\"> 0.019805 </td>\n",
       "   <td style=\"text-align:right;font-weight: bold;color: red !important;\"> 0.020657 </td>\n",
       "   <td style=\"text-align:right;font-weight: bold;color: red !important;\"> 0.014181 </td>\n",
       "   <td style=\"text-align:right;font-weight: bold;color: red !important;\"> 0.028003 </td>\n",
       "   <td style=\"text-align:right;font-weight: bold;color: red !important;\"> 0.645054 </td>\n",
       "  </tr>\n",
       "  <tr>\n",
       "   <td style=\"text-align:left;font-weight: bold;color: red !important;\"> Number Weigh-in with interaction </td>\n",
       "   <td style=\"text-align:right;font-weight: bold;color: red !important;font-weight: bold;color: orange !important;\"> 0.032131 </td>\n",
       "   <td style=\"text-align:right;font-weight: bold;color: red !important;\"> 0.022555 </td>\n",
       "   <td style=\"text-align:right;font-weight: bold;color: red !important;\"> 0.040118 </td>\n",
       "   <td style=\"text-align:right;font-weight: bold;color: red !important;\"> 0.016065 </td>\n",
       "   <td style=\"text-align:right;font-weight: bold;color: red !important;\"> 0.006858 </td>\n",
       "   <td style=\"text-align:right;font-weight: bold;color: red !important;\"> 0.023604 </td>\n",
       "   <td style=\"text-align:right;font-weight: bold;color: red !important;\"> 0.016067 </td>\n",
       "   <td style=\"text-align:right;font-weight: bold;color: red !important;\"> 0.010703 </td>\n",
       "   <td style=\"text-align:right;font-weight: bold;color: red !important;\"> 0.022204 </td>\n",
       "   <td style=\"text-align:right;font-weight: bold;color: red !important;\"> 0.500026 </td>\n",
       "  </tr>\n",
       "  <tr>\n",
       "   <td style=\"text-align:left;font-weight: bold;color: green !important;\"> App usage &amp; Number Weigh-in </td>\n",
       "   <td style=\"text-align:right;font-weight: bold;color: green !important;font-weight: bold;color: orange !important;\"> 0.031128 </td>\n",
       "   <td style=\"text-align:right;font-weight: bold;color: green !important;\"> 0.022549 </td>\n",
       "   <td style=\"text-align:right;font-weight: bold;color: green !important;\"> 0.039988 </td>\n",
       "   <td style=\"text-align:right;font-weight: bold;color: green !important;\"> 0.018804 </td>\n",
       "   <td style=\"text-align:right;font-weight: bold;color: green !important;\"> 0.008696 </td>\n",
       "   <td style=\"text-align:right;font-weight: bold;color: green !important;\"> 0.029642 </td>\n",
       "   <td style=\"text-align:right;font-weight: bold;color: green !important;\"> 0.012324 </td>\n",
       "   <td style=\"text-align:right;font-weight: bold;color: green !important;\"> 0.005281 </td>\n",
       "   <td style=\"text-align:right;font-weight: bold;color: green !important;\"> 0.020098 </td>\n",
       "   <td style=\"text-align:right;font-weight: bold;color: green !important;\"> 0.395926 </td>\n",
       "  </tr>\n",
       "</tbody>\n",
       "</table>"
      ]
     },
     "metadata": {},
     "output_type": "display_data"
    }
   ],
   "source": [
    "rslts$med.tbl %>%\n",
    "  kable(\"html\") %>%\n",
    "  row_spec(c(1,2), bold = T, color = \"blue\") %>% \n",
    "  row_spec(c(3,4), bold = T, color = \"red\") %>% \n",
    "  row_spec(c(5), bold = T, color = \"green\") %>% \n",
    "  column_spec(c(2), bold = T, color = \"orange\") %>% \n",
    "  as.character() %>%\n",
    "  display_html()"
   ]
  },
  {
   "cell_type": "markdown",
   "metadata": {},
   "source": [
    "### **Mediation Results** \n",
    "   \n",
    "|          -          | App1    | NumWeigh |\n",
    "|---------------------|---------|----------|\n",
    "| ACME                | 0.02104 | 0.01759  | \n",
    "| ADE                 | 0.01904 | 0.02289  |\n",
    "| Total effect        | 0.04047 | 0.04047  |\n",
    "| Proportion mediated | 51.98%  | 43.45%   |\n",
    "\n"
   ]
  },
  {
   "cell_type": "markdown",
   "metadata": {},
   "source": [
    "---\n",
    "## Sensitivity Analysis"
   ]
  },
  {
   "cell_type": "code",
   "execution_count": 24,
   "metadata": {},
   "outputs": [],
   "source": [
    "sensApp.out <- medsens(rslts$med.rslts$medApp.out, rho.by = 0.01, effect.type = \"indirect\", sims = 10000)\n",
    "sensNumW.out <- medsens(rslts$med.rslts$medNumW.out, rho.by = 0.01, effect.type = \"indirect\", sims = 10000)"
   ]
  },
  {
   "cell_type": "markdown",
   "metadata": {},
   "source": [
    "### App-usage"
   ]
  },
  {
   "cell_type": "markdown",
   "metadata": {},
   "source": [
    "#### Results"
   ]
  },
  {
   "cell_type": "code",
   "execution_count": 31,
   "metadata": {},
   "outputs": [
    {
     "data": {
      "text/plain": [
       "\n",
       "Mediation Sensitivity Analysis for Average Causal Mediation Effect\n",
       "\n",
       "Sensitivity Region\n",
       "\n",
       "       Rho    ACME 90% CI Lower 90% CI Upper R^2_M*R^2_Y* R^2_M~R^2_Y~\n",
       " [1,] 0.26  0.0057      -0.0005       0.0118       0.0676       0.0300\n",
       " [2,] 0.27  0.0051      -0.0011       0.0113       0.0729       0.0323\n",
       " [3,] 0.28  0.0045      -0.0016       0.0107       0.0784       0.0348\n",
       " [4,] 0.29  0.0039      -0.0022       0.0101       0.0841       0.0373\n",
       " [5,] 0.30  0.0033      -0.0028       0.0095       0.0900       0.0399\n",
       " [6,] 0.31  0.0028      -0.0034       0.0089       0.0961       0.0426\n",
       " [7,] 0.32  0.0022      -0.0040       0.0083       0.1024       0.0454\n",
       " [8,] 0.33  0.0015      -0.0046       0.0077       0.1089       0.0483\n",
       " [9,] 0.34  0.0009      -0.0052       0.0070       0.1156       0.0513\n",
       "[10,] 0.35  0.0003      -0.0058       0.0064       0.1225       0.0543\n",
       "[11,] 0.36 -0.0003      -0.0064       0.0058       0.1296       0.0575\n",
       "[12,] 0.37 -0.0009      -0.0071       0.0052       0.1369       0.0607\n",
       "[13,] 0.38 -0.0016      -0.0077       0.0045       0.1444       0.0640\n",
       "[14,] 0.39 -0.0022      -0.0084       0.0039       0.1521       0.0675\n",
       "[15,] 0.40 -0.0029      -0.0090       0.0032       0.1600       0.0710\n",
       "[16,] 0.41 -0.0036      -0.0097       0.0026       0.1681       0.0746\n",
       "[17,] 0.42 -0.0042      -0.0104       0.0019       0.1764       0.0782\n",
       "[18,] 0.43 -0.0049      -0.0111       0.0012       0.1849       0.0820\n",
       "[19,] 0.44 -0.0056      -0.0118       0.0005       0.1936       0.0859\n",
       "\n",
       "Rho at which ACME = 0: 0.36\n",
       "R^2_M*R^2_Y* at which ACME = 0: 0.1296\n",
       "R^2_M~R^2_Y~ at which ACME = 0: 0.0575 \n"
      ]
     },
     "metadata": {},
     "output_type": "display_data"
    }
   ],
   "source": [
    "summary(sensApp.out)"
   ]
  },
  {
   "cell_type": "markdown",
   "metadata": {},
   "source": [
    "#### Sensitivity with respect to error correlation"
   ]
  },
  {
   "cell_type": "code",
   "execution_count": 32,
   "metadata": {},
   "outputs": [
    {
     "data": {
      "image/png": "[encoded data removed]",
      "text/plain": [
       "Plot with title \"paste(\"App-usage ACME(\", rho, \")\")\""
      ]
     },
     "metadata": {
      "image/png": {
       "height": 420,
       "width": 600
      }
     },
     "output_type": "display_data"
    }
   ],
   "source": [
    "options(repr.plot.width = 10, repr.plot.height = 7)\n",
    "plot(sensApp.out,  ylim = c(-0.18, 0.18), main  =  expression(paste(\"App-usage ACME(\", rho, \")\")))"
   ]
  },
  {
   "cell_type": "markdown",
   "metadata": {},
   "source": [
    "The above figure shows the estimated true values of ACMEs as a function of the sensitivity parameter $\\rho$. The parameter $\\rho$\n",
    "expresses the correlation between the error terms in the mediator and the outcome models. The solid thick line and its shaded area represent the ACME's point estimates and their 90% confidence intervals, respectively.    \n",
    "According to this analysis, the ACME is estimated to be negative when  $\\rho$ is larger than 0.36, and the ACME is statistically indistinguishable from zero at the 90% level when the parameter $\\rho$ is larger than 0.26."
   ]
  },
  {
   "cell_type": "markdown",
   "metadata": {},
   "source": [
    "#### Sensitivity with respect to proportion of variance explained"
   ]
  },
  {
   "cell_type": "code",
   "execution_count": 29,
   "metadata": {},
   "outputs": [
    {
     "data": {
      "image/png": "[encoded data removed]",
      "text/plain": [
       "Plot with title \"paste\"Plot with title \"paste(\"ACME\")\"Plot with title \"(\"Plot with title \"tilde(R)[M]^{\n",
       "    2\n",
       "}\"Plot with title \",\"Plot with title \"tilde(R)[Y]^2\"Plot with title \"), sgn\"Plot with title \"(lambda[2] * lambda[3]) == \"1\"\""
      ]
     },
     "metadata": {
      "image/png": {
       "height": 420,
       "width": 600
      }
     },
     "output_type": "display_data"
    }
   ],
   "source": [
    "plot(sensApp.out, sens.par = \"R2\", r.type = \"total\", sign.prod = \"positive\",\n",
    "     xlim = c(-0.0, 0.6), ylim = c(-0.0, 0.7))"
   ]
  },
  {
   "cell_type": "markdown",
   "metadata": {},
   "source": [
    "In the sensitivity analyses plot above, the ACME estimates are plotted against $\\tilde{R}^2_Y \\tilde{R}^2_M$, the proportions of the total variance in the outcome and mediator variables, respectively, that would be explained by a hypothetical unobserved pretreatment confounder.\n",
    "In terms of the coefficient of determination parameters, the product of $\\tilde{R}^2_M$ and $\\tilde{R}^2_Y$ must be at least as large\n",
    "as 0.0575, implying that an unobserved pretreatment confounder must explain 20% of the variation in the participants’ app-usage and 28.7% of the variation in their weight loss, for example.\n"
   ]
  },
  {
   "cell_type": "markdown",
   "metadata": {},
   "source": [
    "### Self-weight"
   ]
  },
  {
   "cell_type": "markdown",
   "metadata": {},
   "source": [
    "#### Results"
   ]
  },
  {
   "cell_type": "code",
   "execution_count": 26,
   "metadata": {},
   "outputs": [
    {
     "data": {
      "text/plain": [
       "\n",
       "Mediation Sensitivity Analysis for Average Causal Mediation Effect\n",
       "\n",
       "Sensitivity Region\n",
       "\n",
       "       Rho    ACME 90% CI Lower 90% CI Upper R^2_M*R^2_Y* R^2_M~R^2_Y~\n",
       " [1,] 0.30  0.0043      -0.0002       0.0088       0.0900       0.0465\n",
       " [2,] 0.31  0.0038      -0.0007       0.0083       0.0961       0.0496\n",
       " [3,] 0.32  0.0034      -0.0011       0.0079       0.1024       0.0529\n",
       " [4,] 0.33  0.0030      -0.0015       0.0074       0.1089       0.0562\n",
       " [5,] 0.34  0.0025      -0.0019       0.0070       0.1156       0.0597\n",
       " [6,] 0.35  0.0021      -0.0024       0.0065       0.1225       0.0633\n",
       " [7,] 0.36  0.0016      -0.0028       0.0061       0.1296       0.0669\n",
       " [8,] 0.37  0.0012      -0.0033       0.0056       0.1369       0.0707\n",
       " [9,] 0.38  0.0007      -0.0037       0.0051       0.1444       0.0746\n",
       "[10,] 0.39  0.0002      -0.0042       0.0046       0.1521       0.0786\n",
       "[11,] 0.40 -0.0002      -0.0047       0.0042       0.1600       0.0826\n",
       "[12,] 0.41 -0.0007      -0.0052       0.0037       0.1681       0.0868\n",
       "[13,] 0.42 -0.0012      -0.0056       0.0032       0.1764       0.0911\n",
       "[14,] 0.43 -0.0017      -0.0062       0.0027       0.1849       0.0955\n",
       "[15,] 0.44 -0.0022      -0.0067       0.0022       0.1936       0.1000\n",
       "[16,] 0.45 -0.0027      -0.0072       0.0017       0.2025       0.1046\n",
       "[17,] 0.46 -0.0033      -0.0077       0.0012       0.2116       0.1093\n",
       "[18,] 0.47 -0.0038      -0.0083       0.0007       0.2209       0.1141\n",
       "[19,] 0.48 -0.0043      -0.0089       0.0002       0.2304       0.1190\n",
       "\n",
       "Rho at which ACME = 0: 0.39\n",
       "R^2_M*R^2_Y* at which ACME = 0: 0.1521\n",
       "R^2_M~R^2_Y~ at which ACME = 0: 0.0786 \n"
      ]
     },
     "metadata": {},
     "output_type": "display_data"
    }
   ],
   "source": [
    "summary(sensNumW.out)"
   ]
  },
  {
   "cell_type": "markdown",
   "metadata": {},
   "source": [
    "#### Sensitivity with respect to error correlation"
   ]
  },
  {
   "cell_type": "code",
   "execution_count": 28,
   "metadata": {},
   "outputs": [
    {
     "data": {
      "image/png": "[encoded data removed]",
      "text/plain": [
       "Plot with title \"paste(\"Self-weight ACME(\", rho, \")\")\""
      ]
     },
     "metadata": {
      "image/png": {
       "height": 420,
       "width": 600
      }
     },
     "output_type": "display_data"
    }
   ],
   "source": [
    "plot(sensNumW.out,  ylim = c(-0.18, 0.18), main  =  expression(paste(\"Self-weight ACME(\", rho, \")\")))"
   ]
  },
  {
   "cell_type": "markdown",
   "metadata": {},
   "source": [
    "The above figure shows the estimated true values of ACMEs as a function of the sensitivity parameter $\\rho$. The parameter $\\rho$\n",
    "expresses the correlation between the error terms in the mediator and the outcome models. The solid thick line and its shaded area represent the ACME's point estimates and their 90% confidence intervals, respectively.    \n",
    "According to this analysis, the ACME is estimated to be negative when  $\\rho$ is larger than 0.39, and the ACME is statistically indistinguishable from zero at the 90% level when the parameter $\\rho$ is larger than 0.30."
   ]
  },
  {
   "cell_type": "markdown",
   "metadata": {},
   "source": [
    "#### Sensitivity with respect to proportion of variance explained"
   ]
  },
  {
   "cell_type": "code",
   "execution_count": 30,
   "metadata": {},
   "outputs": [
    {
     "data": {
      "image/png": "[encoded data removed]",
      "text/plain": [
       "Plot with title \"paste\"Plot with title \"paste(\"ACME\")\"Plot with title \"(\"Plot with title \"tilde(R)[M]^{\n",
       "    2\n",
       "}\"Plot with title \",\"Plot with title \"tilde(R)[Y]^2\"Plot with title \"), sgn\"Plot with title \"(lambda[2] * lambda[3]) == \"1\"\""
      ]
     },
     "metadata": {
      "image/png": {
       "height": 420,
       "width": 600
      }
     },
     "output_type": "display_data"
    }
   ],
   "source": [
    "plot(sensNumW.out, sens.par = \"R2\", r.type = \"total\", sign.prod = \"positive\",\n",
    "     xlim = c(-0.0, 0.7), ylim = c(-0.0, 0.7))"
   ]
  },
  {
   "cell_type": "markdown",
   "metadata": {},
   "source": [
    "In the sensitivity analyses plot above, the ACME estimates are plotted against $\\tilde{R}^2_Y \\tilde{R}^2_M$, the proportions of the total variance in the outcome and mediator variables, respectively, that would be explained by a hypothetical unobserved pretreatment confounder.\n",
    "In terms of the coefficient of determination parameters, the product of $\\tilde{R}^2_M$ and $\\tilde{R}^2_Y$ must be at least as large\n",
    "as 0.0786, implying that an unobserved pretreatment confounder must explain 20% of the variation in the participants’ app-usage and 39.3% of the variation in their weight loss, for example."
   ]
  },
  {
   "cell_type": "markdown",
   "metadata": {},
   "source": [
    "## Conclusion"
   ]
  },
  {
   "cell_type": "markdown",
   "metadata": {},
   "source": [
    "Overall, the results suggest that under the assumption of independence between mechanisms, the causal mediation effects are positive and\n",
    "moderately statistically significant in all of the three studies, and the estimates are fairly robust to the\n",
    "possible unobserved pretreatment mediator–outcome confounding to varying degrees."
   ]
  }
 ],
 "metadata": {
  "@webio": {
   "lastCommId": "76c17fdbb6854923853bcb29eeeda5b8",
   "lastKernelId": "f716cdaf-89f3-453b-b7de-f15f6130f3b5"
  },
  "jupytext": {
   "formats": "ipynb,Rmd"
  },
  "kernelspec": {
   "display_name": "R",
   "language": "R",
   "name": "ir"
  },
  "language_info": {
   "codemirror_mode": "r",
   "file_extension": ".r",
   "mimetype": "text/x-r-source",
   "name": "R",
   "pygments_lexer": "r",
   "version": "4.0.2"
  }
 },
 "nbformat": 4,
 "nbformat_minor": 4
}
