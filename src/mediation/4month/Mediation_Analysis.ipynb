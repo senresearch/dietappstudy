{
 "cells": [
  {
   "cell_type": "markdown",
   "metadata": {},
   "source": [
    "## **Mediation Analysis**\n",
    "---"
   ]
  },
  {
   "cell_type": "markdown",
   "metadata": {},
   "source": [
    "## Input"
   ]
  },
  {
   "cell_type": "markdown",
   "metadata": {},
   "source": [
    "### Libraries"
   ]
  },
  {
   "cell_type": "code",
   "execution_count": 1,
   "metadata": {},
   "outputs": [],
   "source": [
    "# Library\n",
    "spsm <- suppressPackageStartupMessages # It's a library, so silence please!\n",
    "spsm(library(dplyr))\n",
    "spsm(library(tidyverse))\n",
    "spsm(library(FactoMineR))\n",
    "spsm(library(ggplot2))\n",
    "spsm(library(factoextra))\n",
    "spsm(library(corrplot))\n",
    "spsm(library(mediation))\n",
    "spsm(library(mosaic))\n",
    "spsm(library(kableExtra))\n",
    "spsm(library(IRdisplay))\n",
    "spsm(library(vioplot))"
   ]
  },
  {
   "cell_type": "markdown",
   "metadata": {},
   "source": [
    "### Ext. Functions"
   ]
  },
  {
   "cell_type": "code",
   "execution_count": 2,
   "metadata": {},
   "outputs": [],
   "source": [
    "# Function\n",
    "source(\"../../utils/getData.R\")\n",
    "source(\"../../utils/getPCs.R\")\n",
    "source(\"../../utils/getPermut.R\")\n",
    "source(\"../../utils/getMediationTable.R\")\n",
    "source(\"../../utils/imputeBOCF.R\")\n",
    "source(\"../../utils/imputeLOCF.R\")"
   ]
  },
  {
   "cell_type": "markdown",
   "metadata": {},
   "source": [
    "### Load data at 4-month"
   ]
  },
  {
   "cell_type": "code",
   "execution_count": 3,
   "metadata": {},
   "outputs": [],
   "source": [
    "# example: dat <- getData(\"../../../data/\", 1)\n",
    "# options: 1: \"SummaryMonths1to4.csv\"\n",
    "#          2: \"SummaryMonths1to12.csv\"\n",
    "#          3: \"SummaryMonths5to12Weight.csv\n",
    "#          4: \"SummaryMonths5to12All.csv\"\n",
    "pathFile <- c(\"../../../data/\")\n",
    "numFile <- 1\n",
    "dat <- getData(pathFile, numFile)"
   ]
  },
  {
   "cell_type": "code",
   "execution_count": 4,
   "metadata": {},
   "outputs": [
    {
     "data": {
      "text/html": [
       "<style>\n",
       ".list-inline {list-style: none; margin:0; padding: 0}\n",
       ".list-inline>li {display: inline-block}\n",
       ".list-inline>li:not(:last-child)::after {content: \"\\00b7\"; padding: 0 .5ex}\n",
       "</style>\n",
       "<ol class=list-inline><li>'id'</li><li>'WeightLoss4Month'</li><li>'WeightLoss12Month'</li><li>'Class4Month'</li><li>'Class12Month'</li><li>'Treatment'</li><li>'Age'</li><li>'Gender'</li><li>'logInitialWeight'</li><li>'NumWeekendDays'</li><li>'NumWeekdayDays'</li><li>'NumWeigh'</li><li>'TotalEntries'</li><li>'TotalFoodDays'</li><li>'TotalExerciseDays'</li><li>'TotalBreakfastDays'</li><li>'TotalLunchDays'</li><li>'TotalDinnerDays'</li><li>'TotalSnackDays'</li><li>'AvgTotalCal'</li><li>'AvgExerciseCal'</li><li>'AvgBreakfastCal'</li><li>'AvgLunchCal'</li><li>'AvgDinnerCal'</li><li>'AvgSnackCal'</li></ol>\n"
      ],
      "text/latex": [
       "\\begin{enumerate*}\n",
       "\\item 'id'\n",
       "\\item 'WeightLoss4Month'\n",
       "\\item 'WeightLoss12Month'\n",
       "\\item 'Class4Month'\n",
       "\\item 'Class12Month'\n",
       "\\item 'Treatment'\n",
       "\\item 'Age'\n",
       "\\item 'Gender'\n",
       "\\item 'logInitialWeight'\n",
       "\\item 'NumWeekendDays'\n",
       "\\item 'NumWeekdayDays'\n",
       "\\item 'NumWeigh'\n",
       "\\item 'TotalEntries'\n",
       "\\item 'TotalFoodDays'\n",
       "\\item 'TotalExerciseDays'\n",
       "\\item 'TotalBreakfastDays'\n",
       "\\item 'TotalLunchDays'\n",
       "\\item 'TotalDinnerDays'\n",
       "\\item 'TotalSnackDays'\n",
       "\\item 'AvgTotalCal'\n",
       "\\item 'AvgExerciseCal'\n",
       "\\item 'AvgBreakfastCal'\n",
       "\\item 'AvgLunchCal'\n",
       "\\item 'AvgDinnerCal'\n",
       "\\item 'AvgSnackCal'\n",
       "\\end{enumerate*}\n"
      ],
      "text/markdown": [
       "1. 'id'\n",
       "2. 'WeightLoss4Month'\n",
       "3. 'WeightLoss12Month'\n",
       "4. 'Class4Month'\n",
       "5. 'Class12Month'\n",
       "6. 'Treatment'\n",
       "7. 'Age'\n",
       "8. 'Gender'\n",
       "9. 'logInitialWeight'\n",
       "10. 'NumWeekendDays'\n",
       "11. 'NumWeekdayDays'\n",
       "12. 'NumWeigh'\n",
       "13. 'TotalEntries'\n",
       "14. 'TotalFoodDays'\n",
       "15. 'TotalExerciseDays'\n",
       "16. 'TotalBreakfastDays'\n",
       "17. 'TotalLunchDays'\n",
       "18. 'TotalDinnerDays'\n",
       "19. 'TotalSnackDays'\n",
       "20. 'AvgTotalCal'\n",
       "21. 'AvgExerciseCal'\n",
       "22. 'AvgBreakfastCal'\n",
       "23. 'AvgLunchCal'\n",
       "24. 'AvgDinnerCal'\n",
       "25. 'AvgSnackCal'\n",
       "\n",
       "\n"
      ],
      "text/plain": [
       " [1] \"id\"                 \"WeightLoss4Month\"   \"WeightLoss12Month\" \n",
       " [4] \"Class4Month\"        \"Class12Month\"       \"Treatment\"         \n",
       " [7] \"Age\"                \"Gender\"             \"logInitialWeight\"  \n",
       "[10] \"NumWeekendDays\"     \"NumWeekdayDays\"     \"NumWeigh\"          \n",
       "[13] \"TotalEntries\"       \"TotalFoodDays\"      \"TotalExerciseDays\" \n",
       "[16] \"TotalBreakfastDays\" \"TotalLunchDays\"     \"TotalDinnerDays\"   \n",
       "[19] \"TotalSnackDays\"     \"AvgTotalCal\"        \"AvgExerciseCal\"    \n",
       "[22] \"AvgBreakfastCal\"    \"AvgLunchCal\"        \"AvgDinnerCal\"      \n",
       "[25] \"AvgSnackCal\"       "
      ]
     },
     "metadata": {},
     "output_type": "display_data"
    }
   ],
   "source": [
    "names(dat)"
   ]
  },
  {
   "cell_type": "markdown",
   "metadata": {},
   "source": [
    "### Data description"
   ]
  },
  {
   "cell_type": "markdown",
   "metadata": {},
   "source": [
    "The data variables used in our mediation analysis are described as follows:   \n",
    "* *Treatment* is the treatment assignment variable, where it equals 0 for self-paced subjects and 1 for counselor-initiated subjects.  \n",
    "\n",
    "* *WeightLoss4Month* is a log-ratio indicating the rate of weight change at four months with respect to the baseline weight. If the value is positive, it indicates a weight loss; if it is negative, it corresponds to gain, and 0 indicates no change between 4 months and baseline.\n",
    "* The potential mediators that we plan to analyze are the *self-weighing* variable and the principal components derived from the electronically collected variables' PCA. The logging variables quantify logging behavior in a number of days, and the caloric variables assess caloric intake and output. The logging and caloric variables are estimated over 4 months for the 4-month mediation analysis and 12 months for the 12-month mediation analysis. The average caloric variables quantify the sum of the calories divided by the total number of logged days. For example, *AvgBreakfastCal* equals the sum of intake calories reported at breakfast divided by the total number of days when breakfast was logged.\n",
    "\n",
    "   \n",
    "| Logging            | Caloric         |\n",
    "|--------------------|-----------------|\n",
    "| NumWeekendDays     | AvgTotalCal     | \n",
    "| NumWeekdayDays     | AvgExerciseCal  |\n",
    "| TotalEntries       | AvgBreakfastCal |\n",
    "| TotalFoodDays      | AvgLunchCal     |\n",
    "| TotalExerciseDays  | AvgDinnerCal    |\n",
    "| TotalBreakfastDays | AvgSnackCal     |\n",
    "| TotalLunchDays     |                 |\n",
    "| TotalDinnerDays    |                 |\n",
    "| TotalSnackDays     |                 |\n",
    "\n"
   ]
  },
  {
   "cell_type": "markdown",
   "metadata": {},
   "source": [
    "---\n",
    "## Principal Component Analysis\n",
    "\n",
    "Applying a PCA (principal component analysis) reduces the number of variables and adresses the multicollinearity of the electronically collected variables.\n"
   ]
  },
  {
   "cell_type": "markdown",
   "metadata": {},
   "source": [
    "### Variables selection"
   ]
  },
  {
   "cell_type": "code",
   "execution_count": 5,
   "metadata": {},
   "outputs": [],
   "source": [
    "# Select the variable indexes to include in the Principal Component Analysis\n",
    "myCols <-c(\"NumWeekendDays\",\"NumWeekdayDays\", \"TotalEntries\", \"TotalFoodDays\", \"TotalExerciseDays\",\n",
    "          \"TotalBreakfastDays\", \"TotalLunchDays\", \"TotalDinnerDays\", \"TotalSnackDays\", \"AvgTotalCal\", \n",
    "           \"AvgExerciseCal\", \"AvgBreakfastCal\", \"AvgLunchCal\", \"AvgDinnerCal\", \"AvgSnackCal\")\n",
    "# Get the indexes of those variables\n",
    "idxApp <- match(myCols, colnames(dat))"
   ]
  },
  {
   "cell_type": "markdown",
   "metadata": {},
   "source": [
    "### Apply the PCA"
   ]
  },
  {
   "cell_type": "code",
   "execution_count": 6,
   "metadata": {},
   "outputs": [
    {
     "name": "stderr",
     "output_type": "stream",
     "text": [
      "Registered S3 methods overwritten by 'car':\n",
      "  method                          from\n",
      "  influence.merMod                lme4\n",
      "  cooks.distance.influence.merMod lme4\n",
      "  dfbeta.influence.merMod         lme4\n",
      "  dfbetas.influence.merMod        lme4\n",
      "\n"
     ]
    }
   ],
   "source": [
    "# Get the results of PCA\n",
    "resPC <- getPCs(dat, idxApp, numPCs = 3) # max numPCs is 5\n",
    "# Get the data frame including the first three principal components named app1, app2, app3.\n",
    "dat <- resPC$data"
   ]
  },
  {
   "cell_type": "code",
   "execution_count": 7,
   "metadata": {},
   "outputs": [
    {
     "name": "stdout",
     "output_type": "stream",
     "text": [
      "[1] \"id\"               \"WeightLoss4Month\" \"Treatment\"        \"Age\"             \n",
      "[5] \"NumWeigh\"         \"App1\"             \"App2\"             \"App3\"            \n"
     ]
    }
   ],
   "source": [
    "# Display the variables name\n",
    "# print(names(dat))\n",
    "# Select variables of interest\n",
    "if (numFile == 1){\n",
    "  myCols <-c(\"id\",\"WeightLoss4Month\", \"Treatment\", \"Age\", \"NumWeigh\", \"App1\", \"App2\", \"App3\")  \n",
    "} else {\n",
    "  myCols <-c(\"id\",\"WeightLoss12Month\", \"WeightLoss4Month\", \"Treatment\", \"Age\", \"NumWeigh\", \"App1\", \"App2\", \"App3\")      \n",
    "}\n",
    "\n",
    "myIdx <- match(myCols, colnames(dat))\n",
    "dat <- dat[, myIdx]\n",
    "print(names(dat))"
   ]
  },
  {
   "cell_type": "markdown",
   "metadata": {},
   "source": [
    "### Display PCA results"
   ]
  },
  {
   "cell_type": "code",
   "execution_count": 8,
   "metadata": {},
   "outputs": [
    {
     "data": {
      "image/png": "[encoded data removed]",
      "text/plain": [
       "plot without title"
      ]
     },
     "metadata": {
      "image/png": {
       "height": 300,
       "width": 900
      }
     },
     "output_type": "display_data"
    }
   ],
   "source": [
    "# resPC contains also the scree plot{scree.plot}, cumulative variance explained {CV.plot}, \n",
    "# the variables contribution of each component {contribCorr.plot()} and the quality of those \n",
    "# contributions {cos2Corr.plot()}.\n",
    "options(repr.plot.width = 15, repr.plot.height = 5)\n",
    "resPC$CV.plot"
   ]
  },
  {
   "cell_type": "code",
   "execution_count": 9,
   "metadata": {},
   "outputs": [
    {
     "data": {
      "image/png": "[encoded data removed]",
      "text/plain": [
       "Plot with title \"Contribution of Variables\""
      ]
     },
     "metadata": {
      "image/png": {
       "height": 420,
       "width": 900
      }
     },
     "output_type": "display_data"
    }
   ],
   "source": [
    "options(repr.plot.width = 15, repr.plot.height = 7)\n",
    "resPC$contribCorr.plot(1.5) # to get numbers use resPC$contribCorrNum.plot()"
   ]
  },
  {
   "cell_type": "code",
   "execution_count": 10,
   "metadata": {},
   "outputs": [
    {
     "data": {
      "image/png": "[encoded data removed]",
      "text/plain": [
       "Plot with title \"Quality of Representation of Variables\""
      ]
     },
     "metadata": {
      "image/png": {
       "height": 420,
       "width": 900
      }
     },
     "output_type": "display_data"
    }
   ],
   "source": [
    "options(repr.plot.width = 15, repr.plot.height = 7)\n",
    "resPC$cos2Corr.plot(1.5) # to get numbers use resPC$cos2CorrNum.plot()"
   ]
  },
  {
   "cell_type": "markdown",
   "metadata": {},
   "source": [
    "---\n",
    "## Analysis"
   ]
  },
  {
   "cell_type": "markdown",
   "metadata": {},
   "source": [
    "The first step of the mediation analysis is to establish if our candidates variables are mediators or not.    \n",
    "**To analyze the mediation we observe the following flowchart:**\n",
    "\n",
    "![alt text](images/Mediation_flowchart.svg \"Mediation Analysis flowchart\")\n",
    "\n",
    "**We first estimated two linear regressions for both the mediator and the outcome. We used also a permutation test to assess any associations with respect to our samples.**"
   ]
  },
  {
   "cell_type": "markdown",
   "metadata": {},
   "source": [
    "**Clean the data:** *remove NA*"
   ]
  },
  {
   "cell_type": "code",
   "execution_count": 11,
   "metadata": {},
   "outputs": [],
   "source": [
    "dat <- na.omit(dat)"
   ]
  },
  {
   "cell_type": "markdown",
   "metadata": {},
   "source": [
    "---\n",
    "### Relationship association assessment\n",
    "\n",
    "We will consider the following assumptions:\n",
    "\n",
    "* App usage and Number of self-weiging are casually unrelated mediators.\n",
    "* Observed confounder is : age. "
   ]
  },
  {
   "cell_type": "markdown",
   "metadata": {},
   "source": [
    "#### **Regression of weight loss on the treatment.**"
   ]
  },
  {
   "cell_type": "code",
   "execution_count": 12,
   "metadata": {},
   "outputs": [
    {
     "data": {
      "text/plain": [
       "\n",
       "Call:\n",
       "lm(formula = WeightLoss4Month ~ Treatment + Age, data = dat)\n",
       "\n",
       "Residuals:\n",
       "      Min        1Q    Median        3Q       Max \n",
       "-0.073851 -0.025460 -0.004877  0.018164  0.177896 \n",
       "\n",
       "Coefficients:\n",
       "              Estimate Std. Error t value Pr(>|t|)    \n",
       "(Intercept) -0.0149407  0.0154585  -0.967    0.335    \n",
       "Treatment    0.0340174  0.0065889   5.163 7.56e-07 ***\n",
       "Age          0.0006692  0.0004350   1.538    0.126    \n",
       "---\n",
       "Signif. codes:  0 '***' 0.001 '**' 0.01 '*' 0.05 '.' 0.1 ' ' 1\n",
       "\n",
       "Residual standard error: 0.03969 on 151 degrees of freedom\n",
       "Multiple R-squared:  0.1782,\tAdjusted R-squared:  0.1673 \n",
       "F-statistic: 16.37 on 2 and 151 DF,  p-value: 3.688e-07\n"
      ]
     },
     "metadata": {},
     "output_type": "display_data"
    }
   ],
   "source": [
    "# Outcome model with confounders\n",
    "out.fit <- lm(WeightLoss4Month ~ Treatment + Age, data = dat)\n",
    "#  out.fit <- lm(WeightLoss12Month ~ Treatment + Age + Gender + logInitialWeight , data = dat)\n",
    "summary(out.fit)"
   ]
  },
  {
   "cell_type": "markdown",
   "metadata": {},
   "source": [
    "#### **Permutation test: Weight loss ~ treatment assignment**"
   ]
  },
  {
   "cell_type": "code",
   "execution_count": 13,
   "metadata": {},
   "outputs": [
    {
     "name": "stdout",
     "output_type": "stream",
     "text": [
      "The mean weight loss for intervention is: 0.04334753 \n",
      "The mean weight loss for no intervention is: 0.007583121 \n",
      "The absolute t-test statistic is:  5.652639 \n",
      "Number of permutation sample: 10000 \n",
      "P-value with t-test for 10000 samples is 0 .\n"
     ]
    },
    {
     "data": {
      "image/png": "[encoded data removed]",
      "text/plain": [
       "Plot with title \"Weight Loss\""
      ]
     },
     "metadata": {
      "image/png": {
       "height": 300,
       "width": 600
      }
     },
     "output_type": "display_data"
    },
    {
     "data": {
      "image/png": "[encoded data removed]",
      "text/plain": [
       "Plot with title \"Permutation Test Stats\""
      ]
     },
     "metadata": {
      "image/png": {
       "height": 300,
       "width": 600
      }
     },
     "output_type": "display_data"
    }
   ],
   "source": [
    "options(repr.plot.width = 10, repr.plot.height = 5)\n",
    "getPermut(dat$WeightLoss4Month, dat$Treatment, P = 10000)"
   ]
  },
  {
   "cell_type": "markdown",
   "metadata": {},
   "source": [
    "***We confirmed that the treatment has a statistically significant predictive capability on weight loss outcome.***"
   ]
  },
  {
   "cell_type": "markdown",
   "metadata": {},
   "source": [
    "#### **Regression of App-usage (*i.e.*, PC1 ) on the treatment.**"
   ]
  },
  {
   "cell_type": "code",
   "execution_count": 14,
   "metadata": {},
   "outputs": [
    {
     "data": {
      "text/plain": [
       "\n",
       "Call:\n",
       "lm(formula = App1 ~ Treatment + Age, data = dat)\n",
       "\n",
       "Residuals:\n",
       "    Min      1Q  Median      3Q     Max \n",
       "-5.6749 -1.1994  0.3201  1.4088  5.5347 \n",
       "\n",
       "Coefficients:\n",
       "            Estimate Std. Error t value Pr(>|t|)    \n",
       "(Intercept) -2.61919    0.82396  -3.179  0.00179 ** \n",
       "Treatment    3.20550    0.35119   9.127 4.21e-16 ***\n",
       "Age          0.03772    0.02319   1.627  0.10584    \n",
       "---\n",
       "Signif. codes:  0 '***' 0.001 '**' 0.01 '*' 0.05 '.' 0.1 ' ' 1\n",
       "\n",
       "Residual standard error: 2.116 on 151 degrees of freedom\n",
       "Multiple R-squared:  0.3833,\tAdjusted R-squared:  0.3752 \n",
       "F-statistic: 46.93 on 2 and 151 DF,  p-value: < 2.2e-16\n"
      ]
     },
     "metadata": {},
     "output_type": "display_data"
    }
   ],
   "source": [
    "# Outcome model with confounders\n",
    "out.fit <- lm(App1 ~ Treatment + Age, data = dat)\n",
    "summary(out.fit)"
   ]
  },
  {
   "cell_type": "markdown",
   "metadata": {},
   "source": [
    "#### **Permutation test: App-usage ~ treatment assignment**"
   ]
  },
  {
   "cell_type": "code",
   "execution_count": 15,
   "metadata": {},
   "outputs": [
    {
     "name": "stdout",
     "output_type": "stream",
     "text": [
      "The mean weight loss for intervention is: 1.95435 \n",
      "The mean weight loss for no intervention is: -1.349618 \n",
      "The absolute t-test statistic is:  9.026908 \n",
      "Number of permutation sample: 10000 \n",
      "P-value with t-test for 10000 samples is 0 .\n"
     ]
    },
    {
     "data": {
      "image/png": "[encoded data removed]",
      "text/plain": [
       "Plot with title \"Weight Loss\""
      ]
     },
     "metadata": {
      "image/png": {
       "height": 300,
       "width": 600
      }
     },
     "output_type": "display_data"
    },
    {
     "data": {
      "image/png": "[encoded data removed]",
      "text/plain": [
       "Plot with title \"Permutation Test Stats\""
      ]
     },
     "metadata": {
      "image/png": {
       "height": 300,
       "width": 600
      }
     },
     "output_type": "display_data"
    }
   ],
   "source": [
    "getPermut(dat$App1, dat$Treatment, P = 10000)"
   ]
  },
  {
   "cell_type": "markdown",
   "metadata": {},
   "source": [
    "#### **Regression of App-calories (*i.e.*, PC2 ) on the treatment.**"
   ]
  },
  {
   "cell_type": "code",
   "execution_count": 16,
   "metadata": {},
   "outputs": [
    {
     "data": {
      "text/plain": [
       "\n",
       "Call:\n",
       "lm(formula = App2 ~ Treatment + Age, data = dat)\n",
       "\n",
       "Residuals:\n",
       "    Min      1Q  Median      3Q     Max \n",
       "-5.0883 -0.8331 -0.0531  0.9237  5.0730 \n",
       "\n",
       "Coefficients:\n",
       "            Estimate Std. Error t value Pr(>|t|)    \n",
       "(Intercept) -1.03453    0.57945  -1.785 0.076210 .  \n",
       "Treatment    0.88649    0.24698   3.589 0.000447 ***\n",
       "Age          0.01341    0.01631   0.822 0.412109    \n",
       "---\n",
       "Signif. codes:  0 '***' 0.001 '**' 0.01 '*' 0.05 '.' 0.1 ' ' 1\n",
       "\n",
       "Residual standard error: 1.488 on 151 degrees of freedom\n",
       "Multiple R-squared:  0.09049,\tAdjusted R-squared:  0.07845 \n",
       "F-statistic: 7.512 on 2 and 151 DF,  p-value: 0.0007761\n"
      ]
     },
     "metadata": {},
     "output_type": "display_data"
    }
   ],
   "source": [
    "# Outcome model with confounders\n",
    "out.fit <- lm(App2 ~ Treatment + Age, data = dat)\n",
    "summary(out.fit)"
   ]
  },
  {
   "cell_type": "markdown",
   "metadata": {},
   "source": [
    "#### **Permutation test: App-calories ~ treatment assignment**"
   ]
  },
  {
   "cell_type": "code",
   "execution_count": 17,
   "metadata": {},
   "outputs": [
    {
     "name": "stdout",
     "output_type": "stream",
     "text": [
      "The mean weight loss for intervention is: 0.3383369 \n",
      "The mean weight loss for no intervention is: -0.5831633 \n",
      "The absolute t-test statistic is:  3.593085 \n",
      "Number of permutation sample: 10000 \n",
      "P-value with t-test for 10000 samples is 5e-04 .\n"
     ]
    },
    {
     "data": {
      "image/png": "[encoded data removed]",
      "text/plain": [
       "Plot with title \"Weight Loss\""
      ]
     },
     "metadata": {
      "image/png": {
       "height": 300,
       "width": 600
      }
     },
     "output_type": "display_data"
    },
    {
     "data": {
      "image/png": "[encoded data removed]",
      "text/plain": [
       "Plot with title \"Permutation Test Stats\""
      ]
     },
     "metadata": {
      "image/png": {
       "height": 300,
       "width": 600
      }
     },
     "output_type": "display_data"
    }
   ],
   "source": [
    "getPermut(dat$App2, dat$Treatment, P = 10000)"
   ]
  },
  {
   "cell_type": "markdown",
   "metadata": {},
   "source": [
    "#### **Regression of App-exercise (*i.e.*, PC3 ) on the treatment.**"
   ]
  },
  {
   "cell_type": "code",
   "execution_count": 18,
   "metadata": {},
   "outputs": [
    {
     "data": {
      "text/plain": [
       "\n",
       "Call:\n",
       "lm(formula = App3 ~ Treatment + Age, data = dat)\n",
       "\n",
       "Residuals:\n",
       "    Min      1Q  Median      3Q     Max \n",
       "-2.1394 -1.0082  0.1198  0.9352  4.0383 \n",
       "\n",
       "Coefficients:\n",
       "             Estimate Std. Error t value Pr(>|t|)  \n",
       "(Intercept)  0.806522   0.468278   1.722   0.0871 .\n",
       "Treatment   -0.004417   0.199593  -0.022   0.9824  \n",
       "Age         -0.024337   0.013177  -1.847   0.0667 .\n",
       "---\n",
       "Signif. codes:  0 '***' 0.001 '**' 0.01 '*' 0.05 '.' 0.1 ' ' 1\n",
       "\n",
       "Residual standard error: 1.202 on 151 degrees of freedom\n",
       "Multiple R-squared:  0.02285,\tAdjusted R-squared:  0.009903 \n",
       "F-statistic: 1.765 on 2 and 151 DF,  p-value: 0.1747\n"
      ]
     },
     "metadata": {},
     "output_type": "display_data"
    }
   ],
   "source": [
    "# Outcome model with confounders\n",
    "out.fit <- lm(App3 ~ Treatment + Age, data = dat)\n",
    "summary(out.fit)"
   ]
  },
  {
   "cell_type": "markdown",
   "metadata": {},
   "source": [
    "#### **Permutation test: App-exercise ~ treatment assignment**"
   ]
  },
  {
   "cell_type": "code",
   "execution_count": 19,
   "metadata": {},
   "outputs": [
    {
     "name": "stdout",
     "output_type": "stream",
     "text": [
      "The mean weight loss for intervention is: -0.08051351 \n",
      "The mean weight loss for no intervention is: -0.01256684 \n",
      "The absolute t-test statistic is:  0.35562 \n",
      "Number of permutation sample: 10000 \n",
      "P-value with t-test for 10000 samples is 0.7293 .\n"
     ]
    },
    {
     "data": {
      "image/png": "[encoded data removed]",
      "text/plain": [
       "Plot with title \"Weight Loss\""
      ]
     },
     "metadata": {
      "image/png": {
       "height": 300,
       "width": 600
      }
     },
     "output_type": "display_data"
    },
    {
     "data": {
      "image/png": "[encoded data removed]",
      "text/plain": [
       "Plot with title \"Permutation Test Stats\""
      ]
     },
     "metadata": {
      "image/png": {
       "height": 300,
       "width": 600
      }
     },
     "output_type": "display_data"
    }
   ],
   "source": [
    "getPermut(dat$App3, dat$Treatment, P = 10000)"
   ]
  },
  {
   "cell_type": "markdown",
   "metadata": {},
   "source": [
    "#### **Regression of Self-weight on the treatment.**"
   ]
  },
  {
   "cell_type": "code",
   "execution_count": 20,
   "metadata": {},
   "outputs": [
    {
     "data": {
      "text/plain": [
       "\n",
       "Call:\n",
       "lm(formula = NumWeigh ~ Treatment + Age, data = dat)\n",
       "\n",
       "Residuals:\n",
       "    Min      1Q  Median      3Q     Max \n",
       "-90.972 -17.877   3.454  21.050  62.872 \n",
       "\n",
       "Coefficients:\n",
       "            Estimate Std. Error t value Pr(>|t|)    \n",
       "(Intercept)  45.9960    11.1490   4.126 6.09e-05 ***\n",
       "Treatment    35.6398     4.7520   7.500 5.07e-12 ***\n",
       "Age           0.3149     0.3137   1.004    0.317    \n",
       "---\n",
       "Signif. codes:  0 '***' 0.001 '**' 0.01 '*' 0.05 '.' 0.1 ' ' 1\n",
       "\n",
       "Residual standard error: 28.63 on 151 degrees of freedom\n",
       "Multiple R-squared:   0.29,\tAdjusted R-squared:  0.2806 \n",
       "F-statistic: 30.84 on 2 and 151 DF,  p-value: 5.874e-12\n"
      ]
     },
     "metadata": {},
     "output_type": "display_data"
    }
   ],
   "source": [
    "# Outcome model with confounders\n",
    "out.fit <- lm(NumWeigh ~ Treatment + Age, data = dat)\n",
    "summary(out.fit)"
   ]
  },
  {
   "cell_type": "markdown",
   "metadata": {},
   "source": [
    "#### **Permutation test: Self-weight ~ treatment assignment**"
   ]
  },
  {
   "cell_type": "code",
   "execution_count": 21,
   "metadata": {},
   "outputs": [
    {
     "name": "stdout",
     "output_type": "stream",
     "text": [
      "The mean weight loss for intervention is: 93.05556 \n",
      "The mean weight loss for no intervention is: 56.59375 \n",
      "The absolute t-test statistic is:  7.562866 \n",
      "Number of permutation sample: 10000 \n",
      "P-value with t-test for 10000 samples is 0 .\n"
     ]
    },
    {
     "data": {
      "image/png": "[encoded data removed]",
      "text/plain": [
       "Plot with title \"Weight Loss\""
      ]
     },
     "metadata": {
      "image/png": {
       "height": 300,
       "width": 600
      }
     },
     "output_type": "display_data"
    },
    {
     "data": {
      "image/png": "[encoded data removed]",
      "text/plain": [
       "Plot with title \"Permutation Test Stats\""
      ]
     },
     "metadata": {
      "image/png": {
       "height": 300,
       "width": 600
      }
     },
     "output_type": "display_data"
    }
   ],
   "source": [
    "getPermut(dat$NumWeigh, dat$Treatment, P = 10000)"
   ]
  },
  {
   "cell_type": "markdown",
   "metadata": {},
   "source": [
    "***We confirmed that the treatment has a statistically significant predictive capability on all potential mediators except for the app-exercise. Since app-usage variable (i.e., PC1) explained more than 55% of the variance, we considered only app-usage and self-weight variables for the mediation analysis for the 4 month-weight loss.***"
   ]
  },
  {
   "cell_type": "markdown",
   "metadata": {},
   "source": [
    "---\n",
    "## Mediation"
   ]
  },
  {
   "cell_type": "markdown",
   "metadata": {},
   "source": [
    "**Our function `getMediationTable` to estimate the Average Causal Mediation Effect (ACME) and the Average Direct Effect (ADE) associated with each mediator is based on  the `mediation` library.**"
   ]
  },
  {
   "cell_type": "code",
   "execution_count": 22,
   "metadata": {},
   "outputs": [
    {
     "name": "stderr",
     "output_type": "stream",
     "text": [
      "Running nonparametric bootstrap\n",
      "\n",
      "\n",
      "Running nonparametric bootstrap\n",
      "\n",
      "\n"
     ]
    },
    {
     "data": {
      "text/html": [
       "<table>\n",
       "<caption>A data.frame: 2 × 10</caption>\n",
       "<thead>\n",
       "\t<tr><th></th><th scope=col>Total Effect</th><th scope=col>Lower CI</th><th scope=col>Upper CI</th><th scope=col>ADE</th><th scope=col>Lower CI</th><th scope=col>Upper CI</th><th scope=col>ACME</th><th scope=col>Lower CI</th><th scope=col>Upper CI</th><th scope=col>Prop. Mediated</th></tr>\n",
       "\t<tr><th></th><th scope=col>&lt;dbl&gt;</th><th scope=col>&lt;dbl&gt;</th><th scope=col>&lt;dbl&gt;</th><th scope=col>&lt;dbl&gt;</th><th scope=col>&lt;dbl&gt;</th><th scope=col>&lt;dbl&gt;</th><th scope=col>&lt;dbl&gt;</th><th scope=col>&lt;dbl&gt;</th><th scope=col>&lt;dbl&gt;</th><th scope=col>&lt;dbl&gt;</th></tr>\n",
       "</thead>\n",
       "<tbody>\n",
       "\t<tr><th scope=row>App-usage</th><td>0.034017</td><td>0.023507</td><td>0.044680</td><td>0.013491</td><td>0.001966</td><td>0.025446</td><td>0.020526</td><td>0.012366</td><td>0.029438</td><td>0.603409</td></tr>\n",
       "\t<tr><th scope=row>Self-weight</th><td>0.034017</td><td>0.023285</td><td>0.045009</td><td>0.015019</td><td>0.004221</td><td>0.025880</td><td>0.018999</td><td>0.012270</td><td>0.026674</td><td>0.558506</td></tr>\n",
       "</tbody>\n",
       "</table>\n"
      ],
      "text/latex": [
       "A data.frame: 2 × 10\n",
       "\\begin{tabular}{r|llllllllll}\n",
       "  & Total Effect & Lower CI & Upper CI & ADE & Lower CI & Upper CI & ACME & Lower CI & Upper CI & Prop. Mediated\\\\\n",
       "  & <dbl> & <dbl> & <dbl> & <dbl> & <dbl> & <dbl> & <dbl> & <dbl> & <dbl> & <dbl>\\\\\n",
       "\\hline\n",
       "\tApp-usage & 0.034017 & 0.023507 & 0.044680 & 0.013491 & 0.001966 & 0.025446 & 0.020526 & 0.012366 & 0.029438 & 0.603409\\\\\n",
       "\tSelf-weight & 0.034017 & 0.023285 & 0.045009 & 0.015019 & 0.004221 & 0.025880 & 0.018999 & 0.012270 & 0.026674 & 0.558506\\\\\n",
       "\\end{tabular}\n"
      ],
      "text/markdown": [
       "\n",
       "A data.frame: 2 × 10\n",
       "\n",
       "| <!--/--> | Total Effect &lt;dbl&gt; | Lower CI &lt;dbl&gt; | Upper CI &lt;dbl&gt; | ADE &lt;dbl&gt; | Lower CI &lt;dbl&gt; | Upper CI &lt;dbl&gt; | ACME &lt;dbl&gt; | Lower CI &lt;dbl&gt; | Upper CI &lt;dbl&gt; | Prop. Mediated &lt;dbl&gt; |\n",
       "|---|---|---|---|---|---|---|---|---|---|---|\n",
       "| App-usage | 0.034017 | 0.023507 | 0.044680 | 0.013491 | 0.001966 | 0.025446 | 0.020526 | 0.012366 | 0.029438 | 0.603409 |\n",
       "| Self-weight | 0.034017 | 0.023285 | 0.045009 | 0.015019 | 0.004221 | 0.025880 | 0.018999 | 0.012270 | 0.026674 | 0.558506 |\n",
       "\n"
      ],
      "text/plain": [
       "            Total Effect Lower CI Upper CI ADE      Lower CI Upper CI ACME    \n",
       "App-usage   0.034017     0.023507 0.044680 0.013491 0.001966 0.025446 0.020526\n",
       "Self-weight 0.034017     0.023285 0.045009 0.015019 0.004221 0.025880 0.018999\n",
       "            Lower CI Upper CI Prop. Mediated\n",
       "App-usage   0.012366 0.029438 0.603409      \n",
       "Self-weight 0.012270 0.026674 0.558506      "
      ]
     },
     "metadata": {},
     "output_type": "display_data"
    }
   ],
   "source": [
    "numFile <- 1\n",
    "rslts <- getMediationTable(dat, numFile, myBoot = TRUE, numSims = 10000, confLvl = 0.90) \n",
    "table1 <- rslts$med.tbl\n",
    "table1"
   ]
  },
  {
   "cell_type": "markdown",
   "metadata": {},
   "source": [
    "### **Mediation Results** \n"
   ]
  },
  {
   "cell_type": "code",
   "execution_count": 63,
   "metadata": {},
   "outputs": [
    {
     "data": {
      "text/html": [
       "<table>\n",
       " <thead>\n",
       "  <tr>\n",
       "   <th style=\"text-align:left;\">   </th>\n",
       "   <th style=\"text-align:right;\"> Total Effect </th>\n",
       "   <th style=\"text-align:right;\"> Lower CI </th>\n",
       "   <th style=\"text-align:right;\"> Upper CI </th>\n",
       "   <th style=\"text-align:right;\"> ADE </th>\n",
       "   <th style=\"text-align:right;\"> Lower CI </th>\n",
       "   <th style=\"text-align:right;\"> Upper CI </th>\n",
       "   <th style=\"text-align:right;\"> ACME </th>\n",
       "   <th style=\"text-align:right;\"> Lower CI </th>\n",
       "   <th style=\"text-align:right;\"> Upper CI </th>\n",
       "   <th style=\"text-align:right;\"> Prop. Mediated </th>\n",
       "  </tr>\n",
       " </thead>\n",
       "<tbody>\n",
       "  <tr>\n",
       "   <td style=\"text-align:left;font-weight: bold;color: black !important;\"> App-usage </td>\n",
       "   <td style=\"text-align:right;font-weight: bold;color: steelblue !important;\"> 0.034017 </td>\n",
       "   <td style=\"text-align:right;font-weight: bold;color: sienna !important;\"> 0.023507 </td>\n",
       "   <td style=\"text-align:right;font-weight: bold;color: sienna !important;\"> 0.044680 </td>\n",
       "   <td style=\"text-align:right;font-weight: bold;color: steelblue !important;\"> 0.013491 </td>\n",
       "   <td style=\"text-align:right;font-weight: bold;color: sienna !important;\"> 0.001966 </td>\n",
       "   <td style=\"text-align:right;font-weight: bold;color: sienna !important;\"> 0.025446 </td>\n",
       "   <td style=\"text-align:right;font-weight: bold;color: steelblue !important;\"> 0.020526 </td>\n",
       "   <td style=\"text-align:right;font-weight: bold;color: sienna !important;\"> 0.012366 </td>\n",
       "   <td style=\"text-align:right;font-weight: bold;color: sienna !important;\"> 0.029438 </td>\n",
       "   <td style=\"text-align:right;font-weight: bold;color: black !important;\"> 0.603409 </td>\n",
       "  </tr>\n",
       "  <tr>\n",
       "   <td style=\"text-align:left;font-weight: bold;color: black !important;\"> Self-weight </td>\n",
       "   <td style=\"text-align:right;font-weight: bold;color: steelblue !important;\"> 0.034017 </td>\n",
       "   <td style=\"text-align:right;font-weight: bold;color: sienna !important;\"> 0.023285 </td>\n",
       "   <td style=\"text-align:right;font-weight: bold;color: sienna !important;\"> 0.045009 </td>\n",
       "   <td style=\"text-align:right;font-weight: bold;color: steelblue !important;\"> 0.015019 </td>\n",
       "   <td style=\"text-align:right;font-weight: bold;color: sienna !important;\"> 0.004221 </td>\n",
       "   <td style=\"text-align:right;font-weight: bold;color: sienna !important;\"> 0.025880 </td>\n",
       "   <td style=\"text-align:right;font-weight: bold;color: steelblue !important;\"> 0.018999 </td>\n",
       "   <td style=\"text-align:right;font-weight: bold;color: sienna !important;\"> 0.012270 </td>\n",
       "   <td style=\"text-align:right;font-weight: bold;color: sienna !important;\"> 0.026674 </td>\n",
       "   <td style=\"text-align:right;font-weight: bold;color: black !important;\"> 0.558506 </td>\n",
       "  </tr>\n",
       "</tbody>\n",
       "</table>"
      ]
     },
     "metadata": {},
     "output_type": "display_data"
    }
   ],
   "source": [
    "rslts$med.tbl %>%\n",
    "  kable(\"html\") %>% \n",
    "  column_spec(c(1), bold = T, color = \"black\") %>%\n",
    "  column_spec(c(2, 5, 8), bold = T, color = \"steelblue\") %>%\n",
    "  column_spec(c(3, 4, 6, 7, 9, 10), bold = T, color = \"sienna\") %>%\n",
    "  column_spec(c(11), bold = T, color = \"black\")%>%\n",
    "  as.character() %>%\n",
    "  display_html()"
   ]
  },
  {
   "cell_type": "code",
   "execution_count": 68,
   "metadata": {},
   "outputs": [
    {
     "data": {
      "text/html": [
       "<table>\n",
       " <thead>\n",
       "  <tr>\n",
       "   <th style=\"text-align:left;\">   </th>\n",
       "   <th style=\"text-align:right;\"> Total Effect </th>\n",
       "   <th style=\"text-align:right;\"> Lower CI </th>\n",
       "   <th style=\"text-align:right;\"> Upper CI </th>\n",
       "   <th style=\"text-align:right;\"> ADE </th>\n",
       "   <th style=\"text-align:right;\"> Lower CI </th>\n",
       "   <th style=\"text-align:right;\"> Upper CI </th>\n",
       "   <th style=\"text-align:right;\"> ACME </th>\n",
       "   <th style=\"text-align:right;\"> Lower CI </th>\n",
       "   <th style=\"text-align:right;\"> Upper CI </th>\n",
       "   <th style=\"text-align:right;\"> Prop. Mediated </th>\n",
       "  </tr>\n",
       " </thead>\n",
       "<tbody>\n",
       "  <tr>\n",
       "   <td style=\"text-align:left;\"> App-usage </td>\n",
       "   <td style=\"text-align:right;\"> 0.034017 </td>\n",
       "   <td style=\"text-align:right;\"> 0.023507 </td>\n",
       "   <td style=\"text-align:right;\"> 0.044680 </td>\n",
       "   <td style=\"text-align:right;\"> 0.013491 </td>\n",
       "   <td style=\"text-align:right;\"> 0.001966 </td>\n",
       "   <td style=\"text-align:right;\"> 0.025446 </td>\n",
       "   <td style=\"text-align:right;\"> 0.020526 </td>\n",
       "   <td style=\"text-align:right;\"> 0.012366 </td>\n",
       "   <td style=\"text-align:right;\"> 0.029438 </td>\n",
       "   <td style=\"text-align:right;\"> 0.603409 </td>\n",
       "  </tr>\n",
       "  <tr>\n",
       "   <td style=\"text-align:left;\"> Self-weight </td>\n",
       "   <td style=\"text-align:right;\"> 0.034017 </td>\n",
       "   <td style=\"text-align:right;\"> 0.023285 </td>\n",
       "   <td style=\"text-align:right;\"> 0.045009 </td>\n",
       "   <td style=\"text-align:right;\"> 0.015019 </td>\n",
       "   <td style=\"text-align:right;\"> 0.004221 </td>\n",
       "   <td style=\"text-align:right;\"> 0.025880 </td>\n",
       "   <td style=\"text-align:right;\"> 0.018999 </td>\n",
       "   <td style=\"text-align:right;\"> 0.012270 </td>\n",
       "   <td style=\"text-align:right;\"> 0.026674 </td>\n",
       "   <td style=\"text-align:right;\"> 0.558506 </td>\n",
       "  </tr>\n",
       "</tbody>\n",
       "</table>"
      ]
     },
     "metadata": {},
     "output_type": "display_data"
    }
   ],
   "source": [
    "kable(rslts$med.tbl, booktabs = T) %>%\n",
    "  as.character() %>%\n",
    "  display_html()"
   ]
  },
  {
   "cell_type": "code",
   "execution_count": 69,
   "metadata": {},
   "outputs": [
    {
     "data": {
      "text/plain": [
       "<table>\n",
       " <thead>\n",
       "  <tr>\n",
       "   <th style=\"text-align:left;\">   </th>\n",
       "   <th style=\"text-align:right;\"> Total Effect </th>\n",
       "   <th style=\"text-align:right;\"> Lower CI </th>\n",
       "   <th style=\"text-align:right;\"> Upper CI </th>\n",
       "   <th style=\"text-align:right;\"> ADE </th>\n",
       "   <th style=\"text-align:right;\"> Lower CI </th>\n",
       "   <th style=\"text-align:right;\"> Upper CI </th>\n",
       "   <th style=\"text-align:right;\"> ACME </th>\n",
       "   <th style=\"text-align:right;\"> Lower CI </th>\n",
       "   <th style=\"text-align:right;\"> Upper CI </th>\n",
       "   <th style=\"text-align:right;\"> Prop. Mediated </th>\n",
       "  </tr>\n",
       " </thead>\n",
       "<tbody>\n",
       "  <tr>\n",
       "   <td style=\"text-align:left;font-weight: bold;color: black !important;\"> App-usage </td>\n",
       "   <td style=\"text-align:right;font-weight: bold;color: steelblue !important;\"> 0.034017 </td>\n",
       "   <td style=\"text-align:right;font-weight: bold;color: sienna !important;\"> 0.023507 </td>\n",
       "   <td style=\"text-align:right;font-weight: bold;color: sienna !important;\"> 0.044680 </td>\n",
       "   <td style=\"text-align:right;font-weight: bold;color: steelblue !important;\"> 0.013491 </td>\n",
       "   <td style=\"text-align:right;font-weight: bold;color: sienna !important;\"> 0.001966 </td>\n",
       "   <td style=\"text-align:right;font-weight: bold;color: sienna !important;\"> 0.025446 </td>\n",
       "   <td style=\"text-align:right;font-weight: bold;color: steelblue !important;\"> 0.020526 </td>\n",
       "   <td style=\"text-align:right;font-weight: bold;color: sienna !important;\"> 0.012366 </td>\n",
       "   <td style=\"text-align:right;font-weight: bold;color: sienna !important;\"> 0.029438 </td>\n",
       "   <td style=\"text-align:right;font-weight: bold;color: black !important;\"> 0.603409 </td>\n",
       "  </tr>\n",
       "  <tr>\n",
       "   <td style=\"text-align:left;font-weight: bold;color: black !important;\"> Self-weight </td>\n",
       "   <td style=\"text-align:right;font-weight: bold;color: steelblue !important;\"> 0.034017 </td>\n",
       "   <td style=\"text-align:right;font-weight: bold;color: sienna !important;\"> 0.023285 </td>\n",
       "   <td style=\"text-align:right;font-weight: bold;color: sienna !important;\"> 0.045009 </td>\n",
       "   <td style=\"text-align:right;font-weight: bold;color: steelblue !important;\"> 0.015019 </td>\n",
       "   <td style=\"text-align:right;font-weight: bold;color: sienna !important;\"> 0.004221 </td>\n",
       "   <td style=\"text-align:right;font-weight: bold;color: sienna !important;\"> 0.025880 </td>\n",
       "   <td style=\"text-align:right;font-weight: bold;color: steelblue !important;\"> 0.018999 </td>\n",
       "   <td style=\"text-align:right;font-weight: bold;color: sienna !important;\"> 0.012270 </td>\n",
       "   <td style=\"text-align:right;font-weight: bold;color: sienna !important;\"> 0.026674 </td>\n",
       "   <td style=\"text-align:right;font-weight: bold;color: black !important;\"> 0.558506 </td>\n",
       "  </tr>\n",
       "</tbody>\n",
       "</table>"
      ]
     },
     "metadata": {},
     "output_type": "display_data"
    }
   ],
   "source": [
    "rslts$med.tbl %>%\n",
    "  kable(\"html\") %>% \n",
    "  column_spec(c(1), bold = T, color = \"black\") %>%\n",
    "  column_spec(c(2, 5, 8), bold = T, color = \"steelblue\") %>%\n",
    "  column_spec(c(3, 4, 6, 7, 9, 10), bold = T, color = \"sienna\") %>%\n",
    "  column_spec(c(11), bold = T, color = \"black\")"
   ]
  },
  {
   "cell_type": "markdown",
   "metadata": {},
   "source": [
    "---\n",
    "## Sensitivity Analysis"
   ]
  },
  {
   "cell_type": "code",
   "execution_count": 25,
   "metadata": {},
   "outputs": [],
   "source": [
    "sensApp.out <- medsens(rslts$med.rslts$medApp.out, rho.by = 0.01, effect.type = \"indirect\", sims = 10000)\n",
    "sensNumW.out <- medsens(rslts$med.rslts$medNumW.out, rho.by = 0.01, effect.type = \"indirect\", sims = 10000)"
   ]
  },
  {
   "cell_type": "markdown",
   "metadata": {},
   "source": [
    "### App-usage"
   ]
  },
  {
   "cell_type": "markdown",
   "metadata": {},
   "source": [
    "#### Results"
   ]
  },
  {
   "cell_type": "code",
   "execution_count": 26,
   "metadata": {},
   "outputs": [
    {
     "data": {
      "text/plain": [
       "\n",
       "Mediation Sensitivity Analysis for Average Causal Mediation Effect\n",
       "\n",
       "Sensitivity Region\n",
       "\n",
       "       Rho    ACME 90% CI Lower 90% CI Upper R^2_M*R^2_Y* R^2_M~R^2_Y~\n",
       " [1,] 0.23  0.0072      -0.0005       0.0148       0.0529       0.0237\n",
       " [2,] 0.24  0.0066      -0.0011       0.0142       0.0576       0.0258\n",
       " [3,] 0.25  0.0059      -0.0017       0.0135       0.0625       0.0280\n",
       " [4,] 0.26  0.0053      -0.0023       0.0129       0.0676       0.0303\n",
       " [5,] 0.27  0.0047      -0.0029       0.0122       0.0729       0.0326\n",
       " [6,] 0.28  0.0040      -0.0035       0.0116       0.0784       0.0351\n",
       " [7,] 0.29  0.0034      -0.0041       0.0109       0.0841       0.0377\n",
       " [8,] 0.30  0.0028      -0.0048       0.0103       0.0900       0.0403\n",
       " [9,] 0.31  0.0021      -0.0054       0.0096       0.0961       0.0430\n",
       "[10,] 0.32  0.0014      -0.0061       0.0090       0.1024       0.0459\n",
       "[11,] 0.33  0.0008      -0.0068       0.0083       0.1089       0.0488\n",
       "[12,] 0.34  0.0001      -0.0074       0.0076       0.1156       0.0518\n",
       "[13,] 0.35 -0.0006      -0.0081       0.0069       0.1225       0.0549\n",
       "[14,] 0.36 -0.0013      -0.0088       0.0062       0.1296       0.0580\n",
       "[15,] 0.37 -0.0020      -0.0095       0.0055       0.1369       0.0613\n",
       "[16,] 0.38 -0.0027      -0.0102       0.0048       0.1444       0.0647\n",
       "[17,] 0.39 -0.0034      -0.0109       0.0041       0.1521       0.0681\n",
       "[18,] 0.40 -0.0041      -0.0117       0.0034       0.1600       0.0716\n",
       "[19,] 0.41 -0.0049      -0.0124       0.0027       0.1681       0.0753\n",
       "[20,] 0.42 -0.0056      -0.0132       0.0020       0.1764       0.0790\n",
       "[21,] 0.43 -0.0064      -0.0140       0.0012       0.1849       0.0828\n",
       "[22,] 0.44 -0.0072      -0.0148       0.0005       0.1936       0.0867\n",
       "\n",
       "Rho at which ACME = 0: 0.34\n",
       "R^2_M*R^2_Y* at which ACME = 0: 0.1156\n",
       "R^2_M~R^2_Y~ at which ACME = 0: 0.0518 \n"
      ]
     },
     "metadata": {},
     "output_type": "display_data"
    }
   ],
   "source": [
    "summary(sensApp.out)"
   ]
  },
  {
   "cell_type": "markdown",
   "metadata": {},
   "source": [
    "#### Sensitivity with respect to error correlation"
   ]
  },
  {
   "cell_type": "code",
   "execution_count": 27,
   "metadata": {},
   "outputs": [
    {
     "data": {
      "image/png": "[encoded data removed]",
      "text/plain": [
       "Plot with title \"paste(\"App-usage ACME(\", rho, \")\")\""
      ]
     },
     "metadata": {
      "image/png": {
       "height": 420,
       "width": 600
      }
     },
     "output_type": "display_data"
    }
   ],
   "source": [
    "options(repr.plot.width = 10, repr.plot.height = 7)\n",
    "plot(sensApp.out,  ylim = c(-0.18, 0.18), main  =  expression(paste(\"App-usage ACME(\", rho, \")\")))"
   ]
  },
  {
   "cell_type": "markdown",
   "metadata": {},
   "source": [
    "The above figure shows the estimated true values of ACMEs as functions of the sensitivity parameter $\\rho$, which\n",
    "represents the correlation between the error terms in the mediator and the outcome models. The thick lines\n",
    "and gray bands represent the point estimates of the ACME and their 90% confidence intervals, respectively.   \n",
    "According to this analysis, the ACME is estimated to be negative when the correlation between the error terms in the mediator\n",
    "and the outcome models is larger than 0.34, and the ACME is statistically indistinguishable from\n",
    "zero at the 90% level when the parameter $\\rho$ is >0.23."
   ]
  },
  {
   "cell_type": "markdown",
   "metadata": {},
   "source": [
    "#### Sensitivity with respect to proportion of variance explained"
   ]
  },
  {
   "cell_type": "code",
   "execution_count": 28,
   "metadata": {},
   "outputs": [
    {
     "data": {
      "image/png": "[encoded data removed]",
      "text/plain": [
       "Plot with title \"paste\"",
       "Plot with title \"paste(\"ACME\")\"",
       "Plot with title \"(\"",
       "Plot with title \"tilde(R)[M]^{\n    2\n}\"",
       "Plot with title \",\"",
       "Plot with title \"tilde(R)[Y]^2\"",
       "Plot with title \"), sgn\"",
       "Plot with title \"(lambda[2] * lambda[3]) == \"1\"\""
      ]
     },
     "metadata": {
      "image/png": {
       "height": 420,
       "width": 600
      }
     },
     "output_type": "display_data"
    }
   ],
   "source": [
    "plot(sensApp.out, sens.par = \"R2\", r.type = \"total\", sign.prod = \"positive\",\n",
    "     xlim = c(-0.0, 0.6), ylim = c(-0.0, 0.7))"
   ]
  },
  {
   "cell_type": "markdown",
   "metadata": {},
   "source": [
    "In the sensitivity analyses plot above, the ACME estimates are plotted against $\\tilde{R}^2_Y \\tilde{R}^2_M$, the proportions of the total variance in the outcome and mediator variables, respectively, that would be explained by a hypothetical unobserved pretreatment confounder.\n",
    "In terms of the coefficient of determination parameters, the product of $\\tilde{R}^2_M$ and $\\tilde{R}^2_Y$ must be at least as large\n",
    "as 0.0518, implying that an unobserved pretreatment confounder must explain 20% of the variation in the participants’ app-usage and 25.6% of the variation in their weight loss, for example.\n",
    "\n",
    "We find that the true ACME changes sign if the product of the total variance in weight loss explained by an unmeasured confounder, $\\tilde{R}^2_Y$,  times the total variance in app usage explained by an unmeasured confounder, $\\tilde{R}^2_M$, is greater than 0.0518, and the confounder affects both mediator and outcome in the same direction.   \n",
    "The positive ACME in the analysis is robust to confounding because the unobserved confounder (UC) when the latter explains less than about 19.18% of the variance in the mediator and outcome. In other words, UC would explain only 19.18% of the variance in the mediator and out come in the case where the mediated effect is vanished.\n"
   ]
  },
  {
   "cell_type": "markdown",
   "metadata": {},
   "source": [
    "### Self-weight"
   ]
  },
  {
   "cell_type": "markdown",
   "metadata": {},
   "source": [
    "#### Results"
   ]
  },
  {
   "cell_type": "code",
   "execution_count": 29,
   "metadata": {},
   "outputs": [
    {
     "data": {
      "text/plain": [
       "\n",
       "Mediation Sensitivity Analysis for Average Causal Mediation Effect\n",
       "\n",
       "Sensitivity Region\n",
       "\n",
       "       Rho    ACME 90% CI Lower 90% CI Upper R^2_M*R^2_Y* R^2_M~R^2_Y~\n",
       " [1,] 0.27  0.0062       0.0000       0.0124       0.0729       0.0362\n",
       " [2,] 0.28  0.0057      -0.0005       0.0119       0.0784       0.0390\n",
       " [3,] 0.29  0.0052      -0.0010       0.0113       0.0841       0.0418\n",
       " [4,] 0.30  0.0047      -0.0015       0.0108       0.0900       0.0448\n",
       " [5,] 0.31  0.0041      -0.0020       0.0103       0.0961       0.0478\n",
       " [6,] 0.32  0.0036      -0.0025       0.0097       0.1024       0.0509\n",
       " [7,] 0.33  0.0031      -0.0030       0.0092       0.1089       0.0541\n",
       " [8,] 0.34  0.0025      -0.0036       0.0086       0.1156       0.0575\n",
       " [9,] 0.35  0.0020      -0.0041       0.0080       0.1225       0.0609\n",
       "[10,] 0.36  0.0014      -0.0047       0.0075       0.1296       0.0644\n",
       "[11,] 0.37  0.0008      -0.0052       0.0069       0.1369       0.0681\n",
       "[12,] 0.38  0.0003      -0.0058       0.0063       0.1444       0.0718\n",
       "[13,] 0.39 -0.0003      -0.0064       0.0057       0.1521       0.0756\n",
       "[14,] 0.40 -0.0009      -0.0070       0.0052       0.1600       0.0796\n",
       "[15,] 0.41 -0.0015      -0.0076       0.0046       0.1681       0.0836\n",
       "[16,] 0.42 -0.0021      -0.0082       0.0040       0.1764       0.0877\n",
       "[17,] 0.43 -0.0027      -0.0088       0.0034       0.1849       0.0919\n",
       "[18,] 0.44 -0.0033      -0.0094       0.0028       0.1936       0.0963\n",
       "[19,] 0.45 -0.0040      -0.0101       0.0021       0.2025       0.1007\n",
       "[20,] 0.46 -0.0046      -0.0108       0.0015       0.2116       0.1052\n",
       "[21,] 0.47 -0.0053      -0.0115       0.0009       0.2209       0.1098\n",
       "[22,] 0.48 -0.0060      -0.0122       0.0002       0.2304       0.1146\n",
       "\n",
       "Rho at which ACME = 0: 0.38\n",
       "R^2_M*R^2_Y* at which ACME = 0: 0.1444\n",
       "R^2_M~R^2_Y~ at which ACME = 0: 0.0718 \n"
      ]
     },
     "metadata": {},
     "output_type": "display_data"
    }
   ],
   "source": [
    "summary(sensNumW.out)"
   ]
  },
  {
   "cell_type": "markdown",
   "metadata": {},
   "source": [
    "#### Sensitivity with respect to error correlation"
   ]
  },
  {
   "cell_type": "code",
   "execution_count": 30,
   "metadata": {},
   "outputs": [
    {
     "data": {
      "image/png": "[encoded data removed]",
      "text/plain": [
       "Plot with title \"paste(\"Self-weight ACME(\", rho, \")\")\""
      ]
     },
     "metadata": {
      "image/png": {
       "height": 420,
       "width": 600
      }
     },
     "output_type": "display_data"
    }
   ],
   "source": [
    "plot(sensNumW.out,  ylim = c(-0.18, 0.18), main  =  expression(paste(\"Self-weight ACME(\", rho, \")\")))"
   ]
  },
  {
   "cell_type": "markdown",
   "metadata": {},
   "source": [
    "The above figure shows the estimated true values of ACMEs as functions of the sensitivity parameter $\\rho$, which\n",
    "represents the correlation between the error terms in the mediator and the outcome models. The thick lines\n",
    "and gray bands represent the point estimates of the ACME and their 90% confidence intervals, respectively.   \n",
    "According to this analysis, the ACME is estimated to be negative when the correlation between the error terms in the mediator\n",
    "and the outcome models is larger than 0.38, and the ACME is statistically indistinguishable from\n",
    "zero at the 90% level when the parameter $\\rho$ is >0.27."
   ]
  },
  {
   "cell_type": "markdown",
   "metadata": {},
   "source": [
    "### Sensitivity with respect to proportion of variance explained"
   ]
  },
  {
   "cell_type": "code",
   "execution_count": 31,
   "metadata": {},
   "outputs": [
    {
     "data": {
      "image/png": "[encoded data removed]",
      "text/plain": [
       "Plot with title \"paste\"",
       "Plot with title \"paste(\"ACME\")\"",
       "Plot with title \"(\"",
       "Plot with title \"tilde(R)[M]^{\n    2\n}\"",
       "Plot with title \",\"",
       "Plot with title \"tilde(R)[Y]^2\"",
       "Plot with title \"), sgn\"",
       "Plot with title \"(lambda[2] * lambda[3]) == \"1\"\""
      ]
     },
     "metadata": {
      "image/png": {
       "height": 420,
       "width": 600
      }
     },
     "output_type": "display_data"
    }
   ],
   "source": [
    "plot(sensNumW.out, sens.par = \"R2\", r.type = \"total\", sign.prod = \"positive\",\n",
    "     xlim = c(-0.0, 0.7), ylim = c(-0.0, 0.7))"
   ]
  },
  {
   "cell_type": "markdown",
   "metadata": {},
   "source": [
    "In the sensitivity analyses plot above, the ACME estimates are plotted against $\\tilde{R}^2_Y \\tilde{R}^2_M$, the proportions of the total variance in the outcome and mediator variables, respectively, that would be explained by a hypothetical unobserved pretreatment confounder.\n",
    "In terms of the coefficient of determination parameters, the product of $\\tilde{R}^2_M$ and $\\tilde{R}^2_Y$ must be at least as large\n",
    "as 0.0718, implying that an unobserved pretreatment confounder must explain 20% of the variation in the participants’ app-usage and 35.9% of the variation in their weight loss, for example."
   ]
  },
  {
   "cell_type": "markdown",
   "metadata": {},
   "source": [
    "## Conclusion"
   ]
  },
  {
   "cell_type": "markdown",
   "metadata": {},
   "source": [
    "Overall, the results suggest that under the assumption of independence between mechanisms, the causal mediation effects are positive and\n",
    "moderately statistically significant in all of the three studies, and the estimates are fairly robust to the\n",
    "possible unobserved pretreatment mediator–outcome confounding to varying degrees."
   ]
  }
 ],
 "metadata": {
  "@webio": {
   "lastCommId": "76c17fdbb6854923853bcb29eeeda5b8",
   "lastKernelId": "f716cdaf-89f3-453b-b7de-f15f6130f3b5"
  },
  "jupytext": {
   "formats": "ipynb,Rmd"
  },
  "kernelspec": {
   "display_name": "R",
   "language": "R",
   "name": "ir"
  },
  "language_info": {
   "codemirror_mode": "r",
   "file_extension": ".r",
   "mimetype": "text/x-r-source",
   "name": "R",
   "pygments_lexer": "r",
   "version": "4.0.2"
  }
 },
 "nbformat": 4,
 "nbformat_minor": 4
}
