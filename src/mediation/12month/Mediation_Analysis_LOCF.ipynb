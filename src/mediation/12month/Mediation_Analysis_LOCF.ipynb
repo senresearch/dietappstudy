{
 "cells": [
  {
   "cell_type": "markdown",
   "metadata": {},
   "source": [
    "## **Mediation Analysis**\n",
    "---"
   ]
  },
  {
   "cell_type": "markdown",
   "metadata": {},
   "source": [
    "## Input"
   ]
  },
  {
   "cell_type": "markdown",
   "metadata": {},
   "source": [
    "### Libraries"
   ]
  },
  {
   "cell_type": "code",
   "execution_count": 1,
   "metadata": {},
   "outputs": [],
   "source": [
    "# Library\n",
    "spsm <- suppressPackageStartupMessages \n",
    "spsm(library(dplyr))\n",
    "spsm(library(tidyverse))\n",
    "spsm(library(FactoMineR))\n",
    "spsm(library(ggplot2))\n",
    "spsm(library(factoextra))\n",
    "spsm(library(corrplot))\n",
    "spsm(library(mediation))\n",
    "spsm(library(mosaic))\n",
    "spsm(library(kableExtra))\n",
    "spsm(library(IRdisplay))\n",
    "spsm(library(vioplot))"
   ]
  },
  {
   "cell_type": "markdown",
   "metadata": {},
   "source": [
    "### Ext. Functions"
   ]
  },
  {
   "cell_type": "code",
   "execution_count": 2,
   "metadata": {},
   "outputs": [],
   "source": [
    "# Function\n",
    "source(\"../../utils/getData.R\")\n",
    "source(\"../../utils/getPCs.R\")\n",
    "source(\"../../utils/getPermut.R\")\n",
    "source(\"../../utils/getMediationTable.R\")\n",
    "source(\"../../utils/imputeBOCF.R\")\n",
    "source(\"../../utils/imputeLOCF.R\")"
   ]
  },
  {
   "cell_type": "markdown",
   "metadata": {},
   "source": [
    "### Load data at 12-month"
   ]
  },
  {
   "cell_type": "code",
   "execution_count": 3,
   "metadata": {},
   "outputs": [],
   "source": [
    "# example: dat <- getData(\"../../../data/\", 1)\n",
    "# options: 1: \"SummaryMonths1to4.csv\"\n",
    "#          2: \"SummaryMonths1to12.csv\"\n",
    "#          3: \"SummaryMonths5to12Weight.csv\n",
    "#          4: \"SummaryMonths5to12All.csv\"\n",
    "pathFile <- c(\"../../../data/\")\n",
    "numFile <- 2\n",
    "dat <- getData(pathFile, numFile)"
   ]
  },
  {
   "cell_type": "code",
   "execution_count": 4,
   "metadata": {},
   "outputs": [
    {
     "data": {
      "text/html": [
       "<style>\n",
       ".list-inline {list-style: none; margin:0; padding: 0}\n",
       ".list-inline>li {display: inline-block}\n",
       ".list-inline>li:not(:last-child)::after {content: \"\\00b7\"; padding: 0 .5ex}\n",
       "</style>\n",
       "<ol class=list-inline><li>'id'</li><li>'WeightLoss4Month'</li><li>'WeightLoss12Month'</li><li>'Class4Month'</li><li>'Class12Month'</li><li>'Treatment'</li><li>'Age'</li><li>'Gender'</li><li>'logInitialWeight'</li><li>'LoggedWeekendDays'</li><li>'LoggedWeekDays'</li><li>'NumWeigh'</li><li>'TotalLoggedDays'</li><li>'TotalFoodDays'</li><li>'TotalExerciseDays'</li><li>'TotalBreakfastDays'</li><li>'TotalLunchDays'</li><li>'TotalDinnerDays'</li><li>'TotalSnackDays'</li><li>'AverageDailyIntakeCalories'</li><li>'AverageDailyExerciseCalories'</li><li>'AverageDailyBreakfastCalories'</li><li>'AverageDailyLunchCalories'</li><li>'AverageDailyDinnerCalories'</li><li>'AverageDailySnackCalories'</li><li>'AvgTotalCal'</li><li>'AvgBreakfastCal'</li><li>'AvgLunchCal'</li><li>'AvgDinnerCal'</li><li>'AvgSnackCal'</li></ol>\n"
      ],
      "text/latex": [
       "\\begin{enumerate*}\n",
       "\\item 'id'\n",
       "\\item 'WeightLoss4Month'\n",
       "\\item 'WeightLoss12Month'\n",
       "\\item 'Class4Month'\n",
       "\\item 'Class12Month'\n",
       "\\item 'Treatment'\n",
       "\\item 'Age'\n",
       "\\item 'Gender'\n",
       "\\item 'logInitialWeight'\n",
       "\\item 'LoggedWeekendDays'\n",
       "\\item 'LoggedWeekDays'\n",
       "\\item 'NumWeigh'\n",
       "\\item 'TotalLoggedDays'\n",
       "\\item 'TotalFoodDays'\n",
       "\\item 'TotalExerciseDays'\n",
       "\\item 'TotalBreakfastDays'\n",
       "\\item 'TotalLunchDays'\n",
       "\\item 'TotalDinnerDays'\n",
       "\\item 'TotalSnackDays'\n",
       "\\item 'AverageDailyIntakeCalories'\n",
       "\\item 'AverageDailyExerciseCalories'\n",
       "\\item 'AverageDailyBreakfastCalories'\n",
       "\\item 'AverageDailyLunchCalories'\n",
       "\\item 'AverageDailyDinnerCalories'\n",
       "\\item 'AverageDailySnackCalories'\n",
       "\\item 'AvgTotalCal'\n",
       "\\item 'AvgBreakfastCal'\n",
       "\\item 'AvgLunchCal'\n",
       "\\item 'AvgDinnerCal'\n",
       "\\item 'AvgSnackCal'\n",
       "\\end{enumerate*}\n"
      ],
      "text/markdown": [
       "1. 'id'\n",
       "2. 'WeightLoss4Month'\n",
       "3. 'WeightLoss12Month'\n",
       "4. 'Class4Month'\n",
       "5. 'Class12Month'\n",
       "6. 'Treatment'\n",
       "7. 'Age'\n",
       "8. 'Gender'\n",
       "9. 'logInitialWeight'\n",
       "10. 'LoggedWeekendDays'\n",
       "11. 'LoggedWeekDays'\n",
       "12. 'NumWeigh'\n",
       "13. 'TotalLoggedDays'\n",
       "14. 'TotalFoodDays'\n",
       "15. 'TotalExerciseDays'\n",
       "16. 'TotalBreakfastDays'\n",
       "17. 'TotalLunchDays'\n",
       "18. 'TotalDinnerDays'\n",
       "19. 'TotalSnackDays'\n",
       "20. 'AverageDailyIntakeCalories'\n",
       "21. 'AverageDailyExerciseCalories'\n",
       "22. 'AverageDailyBreakfastCalories'\n",
       "23. 'AverageDailyLunchCalories'\n",
       "24. 'AverageDailyDinnerCalories'\n",
       "25. 'AverageDailySnackCalories'\n",
       "26. 'AvgTotalCal'\n",
       "27. 'AvgBreakfastCal'\n",
       "28. 'AvgLunchCal'\n",
       "29. 'AvgDinnerCal'\n",
       "30. 'AvgSnackCal'\n",
       "\n",
       "\n"
      ],
      "text/plain": [
       " [1] \"id\"                            \"WeightLoss4Month\"             \n",
       " [3] \"WeightLoss12Month\"             \"Class4Month\"                  \n",
       " [5] \"Class12Month\"                  \"Treatment\"                    \n",
       " [7] \"Age\"                           \"Gender\"                       \n",
       " [9] \"logInitialWeight\"              \"LoggedWeekendDays\"            \n",
       "[11] \"LoggedWeekDays\"                \"NumWeigh\"                     \n",
       "[13] \"TotalLoggedDays\"               \"TotalFoodDays\"                \n",
       "[15] \"TotalExerciseDays\"             \"TotalBreakfastDays\"           \n",
       "[17] \"TotalLunchDays\"                \"TotalDinnerDays\"              \n",
       "[19] \"TotalSnackDays\"                \"AverageDailyIntakeCalories\"   \n",
       "[21] \"AverageDailyExerciseCalories\"  \"AverageDailyBreakfastCalories\"\n",
       "[23] \"AverageDailyLunchCalories\"     \"AverageDailyDinnerCalories\"   \n",
       "[25] \"AverageDailySnackCalories\"     \"AvgTotalCal\"                  \n",
       "[27] \"AvgBreakfastCal\"               \"AvgLunchCal\"                  \n",
       "[29] \"AvgDinnerCal\"                  \"AvgSnackCal\"                  "
      ]
     },
     "metadata": {},
     "output_type": "display_data"
    }
   ],
   "source": [
    "names(dat)"
   ]
  },
  {
   "cell_type": "markdown",
   "metadata": {},
   "source": [
    "### Data description"
   ]
  },
  {
   "cell_type": "markdown",
   "metadata": {},
   "source": [
    "The data variables used in our mediation analysis are described as follows:   \n",
    "* *Treatment* is the treatment assignment variable, where it equals 0 for self-paced subjects and 1 for counselor-initiated subjects.  \n",
    "\n",
    "* *WeightLoss12Month* is a log-ratio indicating the rate of weight change at four months with respect to the baseline weight. If the value is positive, it indicates a weight loss; if it is negative, it corresponds to gain, and 0 indicates no change between 12 months and baseline.\n",
    "\n",
    "* *WeightLoss4Month* is a log-ratio indicating the rate of weight change at four months with respect to the baseline weight. If the value is positive, it indicates a weight loss; if it is negative, it corresponds to gain, and 0 indicates no change between 4 months and baseline. \n",
    "\n",
    "* The potential mediators that we plan to analyze are the *self-weighing* variable, the principal components derived from the electronically collected variables' PCA, and *WeightLoss4Month*. The logging variables quantify logging behavior in a number of days, and the caloric variables assess caloric intake and output. The logging and caloric variables are estimated over 12 months for the 12-month mediation analysis. The average caloric variables quantify the sum of the calories divided by the total number of logged days. For example, *AverageDailyBreakfastCalories* equals the sum of intake calories reported at breakfast divided by the total number of days when breakfast was logged.\n",
    "\n",
    "   \n",
    "| Logging            | Caloric                       |\n",
    "|--------------------|-------------------------------|\n",
    "| LoggedWeekendDays  | AverageDailyIntakeCalories    | \n",
    "| LoggedWeekDays     | AverageDailyExerciseCalories  |\n",
    "| TotalLoggedDays    | AverageDailyBreakfastCalories |\n",
    "| TotalFoodDays      | AverageDailyLunchCalories     |\n",
    "| TotalExerciseDays  | AverageDailyDinnerCalories    |\n",
    "| TotalBreakfastDays | AverageDailySnackCalories     |\n",
    "| TotalLunchDays     |                               |\n",
    "| TotalDinnerDays    |                               |\n",
    "| TotalSnackDays     |                               |\n",
    "\n"
   ]
  },
  {
   "cell_type": "markdown",
   "metadata": {},
   "source": [
    "---\n",
    "## Principal Component Analysis\n",
    "\n",
    "Applying a PCA (principal component analysis) reduces the number of variables and adresses the multicollinearity of the electronically collected variables.\n"
   ]
  },
  {
   "cell_type": "markdown",
   "metadata": {},
   "source": [
    "### Variables selection"
   ]
  },
  {
   "cell_type": "code",
   "execution_count": 5,
   "metadata": {},
   "outputs": [],
   "source": [
    "# Select the variable indexes to include in the Principal Component Analysis\n",
    "myCols <-c(\"LoggedWeekDays\", \"LoggedWeekendDays\", \"TotalLoggedDays\",\"TotalFoodDays\",\n",
    "            \"TotalExerciseDays\", \n",
    "            \"TotalBreakfastDays\", \"TotalLunchDays\", \"TotalDinnerDays\", \"TotalSnackDays\",\n",
    "            \"AverageDailyIntakeCalories\", \"AverageDailyExerciseCalories\", \n",
    "            \"AverageDailyBreakfastCalories\",\n",
    "            \"AverageDailyLunchCalories\", \"AverageDailyDinnerCalories\",\"AverageDailySnackCalories\")\n",
    "# Get the indexes of those variables\n",
    "idxApp <- match(myCols, colnames(dat))"
   ]
  },
  {
   "cell_type": "markdown",
   "metadata": {},
   "source": [
    "### Apply the PCA"
   ]
  },
  {
   "cell_type": "code",
   "execution_count": 6,
   "metadata": {},
   "outputs": [
    {
     "name": "stderr",
     "output_type": "stream",
     "text": [
      "Registered S3 methods overwritten by 'car':\n",
      "  method                          from\n",
      "  influence.merMod                lme4\n",
      "  cooks.distance.influence.merMod lme4\n",
      "  dfbeta.influence.merMod         lme4\n",
      "  dfbetas.influence.merMod        lme4\n",
      "\n"
     ]
    }
   ],
   "source": [
    "# Get the results of PCA\n",
    "resPC <- getPCs(dat, idxApp, numPCs = 3) # max numPCs is 5\n",
    "# Get the data frame including the first three principal components named app1, app2, app3.\n",
    "dat <- resPC$data"
   ]
  },
  {
   "cell_type": "code",
   "execution_count": 7,
   "metadata": {},
   "outputs": [
    {
     "name": "stdout",
     "output_type": "stream",
     "text": [
      "[1] \"id\"                \"WeightLoss12Month\" \"WeightLoss4Month\" \n",
      "[4] \"Treatment\"         \"Age\"               \"NumWeigh\"         \n",
      "[7] \"App1\"              \"App2\"              \"App3\"             \n"
     ]
    }
   ],
   "source": [
    "# Display the variables name\n",
    "# print(names(dat))\n",
    "# Select variables of interest\n",
    "if (numFile == 1){\n",
    "  myCols <-c(\"id\",\"WeightLoss4Month\", \"Treatment\", \"Age\", \"NumWeigh\", \"App1\", \"App2\", \"App3\")  \n",
    "} else {\n",
    "  myCols <-c(\"id\",\"WeightLoss12Month\", \"WeightLoss4Month\", \"Treatment\", \"Age\", \"NumWeigh\", \"App1\", \"App2\", \"App3\")      \n",
    "}\n",
    "\n",
    "myIdx <- match(myCols, colnames(dat))\n",
    "dat <- dat[, myIdx]\n",
    "print(names(dat))"
   ]
  },
  {
   "cell_type": "markdown",
   "metadata": {},
   "source": [
    "### Display PCA results"
   ]
  },
  {
   "cell_type": "code",
   "execution_count": 8,
   "metadata": {},
   "outputs": [
    {
     "data": {
      "image/png": "[encoded data removed]",
      "text/plain": [
       "plot without title"
      ]
     },
     "metadata": {
      "image/png": {
       "height": 300,
       "width": 600
      }
     },
     "output_type": "display_data"
    }
   ],
   "source": [
    "# resPC contains also the scree plot{scree.plot}, cumulative variance explained {CV.plot}, \n",
    "# the variables contribution of each component {contribCorr.plot()} and the quality of those \n",
    "# contributions {cos2Corr.plot()}.\n",
    "options(repr.plot.width = 10, repr.plot.height = 5)\n",
    "resPC$CV.plot"
   ]
  },
  {
   "cell_type": "code",
   "execution_count": 9,
   "metadata": {},
   "outputs": [
    {
     "data": {
      "image/png": "[encoded data removed]",
      "text/plain": [
       "Plot with title \"Contribution of Variables\""
      ]
     },
     "metadata": {
      "image/png": {
       "height": 420,
       "width": 600
      }
     },
     "output_type": "display_data"
    }
   ],
   "source": [
    "options(repr.plot.width = 10, repr.plot.height = 7)\n",
    "resPC$contribCorr.plot(1.5) # to get numbers use resPC$contribCorrNum.plot()"
   ]
  },
  {
   "cell_type": "code",
   "execution_count": 10,
   "metadata": {},
   "outputs": [
    {
     "data": {
      "image/png": "[encoded data removed]",
      "text/plain": [
       "Plot with title \"Quality of Representation of Variables\""
      ]
     },
     "metadata": {
      "image/png": {
       "height": 420,
       "width": 600
      }
     },
     "output_type": "display_data"
    }
   ],
   "source": [
    "options(repr.plot.width = 10, repr.plot.height = 7)\n",
    "resPC$cos2Corr.plot(1.5) # to get numbers use resPC$cos2CorrNum.plot()"
   ]
  },
  {
   "cell_type": "markdown",
   "metadata": {},
   "source": [
    "---\n",
    "## Analysis"
   ]
  },
  {
   "cell_type": "markdown",
   "metadata": {},
   "source": [
    "The first step of the mediation analysis is to establish if our candidates variables are mediators or not.    \n",
    "**To analyze the mediation we observe the following flowchart:**\n",
    "\n",
    "![alt text](images/Mediation_flowchart.svg \"Mediation Analysis flowchart\")\n",
    "\n",
    "**We first estimated two linear regressions for both the mediator and the outcome. We used also a permutation test to assess any associations with respect to our samples.**"
   ]
  },
  {
   "cell_type": "markdown",
   "metadata": {},
   "source": [
    "**Clean the data:** *impute with the last observation carried forward*"
   ]
  },
  {
   "cell_type": "code",
   "execution_count": 11,
   "metadata": {},
   "outputs": [],
   "source": [
    "dat <- imputeLOCF(dat, response = \"both\")"
   ]
  },
  {
   "cell_type": "markdown",
   "metadata": {},
   "source": [
    "---\n",
    "### Relationship association assessment\n",
    "\n",
    "We will consider the following assumptions:\n",
    "\n",
    "* App usage and Number of self-weighing are casually unrelated mediators.\n",
    "* Observed confounder is : age. "
   ]
  },
  {
   "cell_type": "markdown",
   "metadata": {},
   "source": [
    "#### **Regression of weight loss on the treatment.**"
   ]
  },
  {
   "cell_type": "code",
   "execution_count": 12,
   "metadata": {},
   "outputs": [
    {
     "data": {
      "text/plain": [
       "\n",
       "Call:\n",
       "lm(formula = WeightLoss12Month ~ Treatment + Age, data = dat)\n",
       "\n",
       "Residuals:\n",
       "     Min       1Q   Median       3Q      Max \n",
       "-0.16213 -0.02975 -0.00272  0.03032  0.21996 \n",
       "\n",
       "Coefficients:\n",
       "              Estimate Std. Error t value Pr(>|t|)   \n",
       "(Intercept) -0.0485109  0.0182602  -2.657  0.00857 **\n",
       "Treatment    0.0231023  0.0077591   2.977  0.00329 **\n",
       "Age          0.0014037  0.0005116   2.744  0.00666 **\n",
       "---\n",
       "Signif. codes:  0 '***' 0.001 '**' 0.01 '*' 0.05 '.' 0.1 ' ' 1\n",
       "\n",
       "Residual standard error: 0.05315 on 188 degrees of freedom\n",
       "Multiple R-squared:  0.08887,\tAdjusted R-squared:  0.07918 \n",
       "F-statistic: 9.168 on 2 and 188 DF,  p-value: 0.0001587\n"
      ]
     },
     "metadata": {},
     "output_type": "display_data"
    }
   ],
   "source": [
    "# Outcome model with confounders\n",
    "out.fit <- lm(WeightLoss12Month ~ Treatment + Age, data = dat)\n",
    "summary(out.fit)"
   ]
  },
  {
   "cell_type": "markdown",
   "metadata": {},
   "source": [
    "#### **Permutation test: Weight loss ~ treatment assignment**"
   ]
  },
  {
   "cell_type": "code",
   "execution_count": 13,
   "metadata": {},
   "outputs": [
    {
     "name": "stdout",
     "output_type": "stream",
     "text": [
      "The mean Weight Loss for intervention is: 0.02448291 \n",
      "The mean Weight Loss for no intervention is: -0.0008819092 \n",
      "The absolute t-test statistic is:  3.256987 \n",
      "Number of permutation sample: 10000 \n",
      "P-value with t-test for 10000 samples is 5e-04 .\n"
     ]
    },
    {
     "data": {
      "image/png": "[encoded data removed]",
      "text/plain": [
       "Plot with title \"Weight Loss\""
      ]
     },
     "metadata": {
      "image/png": {
       "height": 300,
       "width": 600
      }
     },
     "output_type": "display_data"
    },
    {
     "data": {
      "image/png": "[encoded data removed]",
      "text/plain": [
       "Plot with title \"Permutation Test Stats\""
      ]
     },
     "metadata": {
      "image/png": {
       "height": 300,
       "width": 600
      }
     },
     "output_type": "display_data"
    }
   ],
   "source": [
    "options(repr.plot.width = 10, repr.plot.height = 5)\n",
    "getPermut(dat$WeightLoss12Month, dat$Treatment, P = 10000, IVname = \"Weight Loss\")"
   ]
  },
  {
   "cell_type": "markdown",
   "metadata": {},
   "source": [
    "***We confirmed that the treatment has a statistically significant predictive capability on weight loss outcome.***"
   ]
  },
  {
   "cell_type": "markdown",
   "metadata": {},
   "source": [
    "#### Regression of App-use (*i.e.*, PC1 ) on the treatment."
   ]
  },
  {
   "cell_type": "code",
   "execution_count": 14,
   "metadata": {},
   "outputs": [
    {
     "data": {
      "text/plain": [
       "\n",
       "Call:\n",
       "lm(formula = App1 ~ Treatment + Age, data = dat)\n",
       "\n",
       "Residuals:\n",
       "    Min      1Q  Median      3Q     Max \n",
       "-5.2982 -1.3647 -0.2957  1.5327  7.3369 \n",
       "\n",
       "Coefficients:\n",
       "            Estimate Std. Error t value Pr(>|t|)    \n",
       "(Intercept) -4.17705    0.77744  -5.373 2.27e-07 ***\n",
       "Treatment    3.34443    0.33035  10.124  < 2e-16 ***\n",
       "Age          0.06820    0.02178   3.131  0.00202 ** \n",
       "---\n",
       "Signif. codes:  0 '***' 0.001 '**' 0.01 '*' 0.05 '.' 0.1 ' ' 1\n",
       "\n",
       "Residual standard error: 2.263 on 188 degrees of freedom\n",
       "Multiple R-squared:  0.3904,\tAdjusted R-squared:  0.3839 \n",
       "F-statistic:  60.2 on 2 and 188 DF,  p-value: < 2.2e-16\n"
      ]
     },
     "metadata": {},
     "output_type": "display_data"
    }
   ],
   "source": [
    "# Outcome model with confounders\n",
    "out.fit <- lm(App1 ~ Treatment + Age, data = dat)\n",
    "summary(out.fit)"
   ]
  },
  {
   "cell_type": "markdown",
   "metadata": {},
   "source": [
    "#### **Permutation test: App-use ~ treatment assignment**"
   ]
  },
  {
   "cell_type": "code",
   "execution_count": 15,
   "metadata": {},
   "outputs": [
    {
     "name": "stdout",
     "output_type": "stream",
     "text": [
      "The mean App-use for intervention is: 1.591541 \n",
      "The mean App-use for no intervention is: -1.862826 \n",
      "The absolute t-test statistic is:  10.61902 \n",
      "Number of permutation sample: 10000 \n",
      "P-value with t-test for 10000 samples is 0 .\n"
     ]
    },
    {
     "data": {
      "image/png": "[encoded data removed]",
      "text/plain": [
       "Plot with title \"App-use\""
      ]
     },
     "metadata": {
      "image/png": {
       "height": 300,
       "width": 600
      }
     },
     "output_type": "display_data"
    },
    {
     "data": {
      "image/png": "[encoded data removed]",
      "text/plain": [
       "Plot with title \"Permutation Test Stats\""
      ]
     },
     "metadata": {
      "image/png": {
       "height": 300,
       "width": 600
      }
     },
     "output_type": "display_data"
    }
   ],
   "source": [
    "getPermut(dat$App1, dat$Treatment, P = 10000, IVname = \"App-use\")"
   ]
  },
  {
   "cell_type": "markdown",
   "metadata": {},
   "source": [
    "#### **Regression of App-calories (*i.e.*, PC2 ) on the treatment.**"
   ]
  },
  {
   "cell_type": "code",
   "execution_count": 16,
   "metadata": {},
   "outputs": [
    {
     "data": {
      "text/plain": [
       "\n",
       "Call:\n",
       "lm(formula = App2 ~ Treatment + Age, data = dat)\n",
       "\n",
       "Residuals:\n",
       "    Min      1Q  Median      3Q     Max \n",
       "-5.3341 -0.7767  0.0026  0.9173  4.5074 \n",
       "\n",
       "Coefficients:\n",
       "            Estimate Std. Error t value Pr(>|t|)\n",
       "(Intercept)  0.64990    0.57363   1.133    0.259\n",
       "Treatment   -0.26784    0.24375  -1.099    0.273\n",
       "Age         -0.01452    0.01607  -0.904    0.367\n",
       "\n",
       "Residual standard error: 1.67 on 188 degrees of freedom\n",
       "Multiple R-squared:  0.01188,\tAdjusted R-squared:  0.001371 \n",
       "F-statistic:  1.13 on 2 and 188 DF,  p-value: 0.3251\n"
      ]
     },
     "metadata": {},
     "output_type": "display_data"
    }
   ],
   "source": [
    "# Outcome model with confounders\n",
    "out.fit <- lm(App2 ~ Treatment + Age, data = dat)\n",
    "summary(out.fit)"
   ]
  },
  {
   "cell_type": "markdown",
   "metadata": {},
   "source": [
    "#### **Permutation test: App-calories ~ treatment assignment**"
   ]
  },
  {
   "cell_type": "code",
   "execution_count": 17,
   "metadata": {},
   "outputs": [
    {
     "name": "stdout",
     "output_type": "stream",
     "text": [
      "The mean App-calories for intervention is: -0.1341901 \n",
      "The mean App-calories for no intervention is: 0.1570634 \n",
      "The absolute t-test statistic is:  1.166119 \n",
      "Number of permutation sample: 10000 \n",
      "P-value with t-test for 10000 samples is 0.2464 .\n"
     ]
    },
    {
     "data": {
      "image/png": "[encoded data removed]",
      "text/plain": [
       "Plot with title \"App-calories\""
      ]
     },
     "metadata": {
      "image/png": {
       "height": 300,
       "width": 600
      }
     },
     "output_type": "display_data"
    },
    {
     "data": {
      "image/png": "[encoded data removed]",
      "text/plain": [
       "Plot with title \"Permutation Test Stats\""
      ]
     },
     "metadata": {
      "image/png": {
       "height": 300,
       "width": 600
      }
     },
     "output_type": "display_data"
    }
   ],
   "source": [
    "getPermut(dat$App2, dat$Treatment, P = 10000, IVname = \"App-calories\")"
   ]
  },
  {
   "cell_type": "markdown",
   "metadata": {},
   "source": [
    "#### Regression of App-exercise (*i.e.*, PC3 ) on the treatment."
   ]
  },
  {
   "cell_type": "code",
   "execution_count": 18,
   "metadata": {},
   "outputs": [
    {
     "data": {
      "text/plain": [
       "\n",
       "Call:\n",
       "lm(formula = App3 ~ Treatment + Age, data = dat)\n",
       "\n",
       "Residuals:\n",
       "    Min      1Q  Median      3Q     Max \n",
       "-2.1625 -0.8839  0.0164  0.7262  4.1827 \n",
       "\n",
       "Coefficients:\n",
       "             Estimate Std. Error t value Pr(>|t|)  \n",
       "(Intercept)  0.972935   0.392492   2.479   0.0141 *\n",
       "Treatment    0.003746   0.166778   0.022   0.9821  \n",
       "Age         -0.028015   0.010996  -2.548   0.0116 *\n",
       "---\n",
       "Signif. codes:  0 '***' 0.001 '**' 0.01 '*' 0.05 '.' 0.1 ' ' 1\n",
       "\n",
       "Residual standard error: 1.142 on 188 degrees of freedom\n",
       "Multiple R-squared:  0.03368,\tAdjusted R-squared:  0.0234 \n",
       "F-statistic: 3.277 on 2 and 188 DF,  p-value: 0.03992\n"
      ]
     },
     "metadata": {},
     "output_type": "display_data"
    }
   ],
   "source": [
    "# Outcome model with confounders\n",
    "out.fit <- lm(App3 ~ Treatment + Age, data = dat)\n",
    "summary(out.fit)"
   ]
  },
  {
   "cell_type": "markdown",
   "metadata": {},
   "source": [
    "#### **Permutation test: App-exercise ~ treatment assignment**"
   ]
  },
  {
   "cell_type": "code",
   "execution_count": 19,
   "metadata": {},
   "outputs": [
    {
     "name": "stdout",
     "output_type": "stream",
     "text": [
      "The mean App-exercise for intervention is: -0.01907944 \n",
      "The mean App-exercise for no intervention is: 0.02233161 \n",
      "The absolute t-test statistic is:  0.2497284 \n",
      "Number of permutation sample: 10000 \n",
      "P-value with t-test for 10000 samples is 0.8029 .\n"
     ]
    },
    {
     "data": {
      "image/png": "[encoded data removed]",
      "text/plain": [
       "Plot with title \"App-exercise\""
      ]
     },
     "metadata": {
      "image/png": {
       "height": 300,
       "width": 600
      }
     },
     "output_type": "display_data"
    },
    {
     "data": {
      "image/png": "[encoded data removed]",
      "text/plain": [
       "Plot with title \"Permutation Test Stats\""
      ]
     },
     "metadata": {
      "image/png": {
       "height": 300,
       "width": 600
      }
     },
     "output_type": "display_data"
    }
   ],
   "source": [
    "getPermut(dat$App3, dat$Treatment, P = 10000, IVname = \"App-exercise\")"
   ]
  },
  {
   "cell_type": "markdown",
   "metadata": {},
   "source": [
    "#### **Regression of Self-weight on the treatment.**"
   ]
  },
  {
   "cell_type": "code",
   "execution_count": 20,
   "metadata": {},
   "outputs": [
    {
     "data": {
      "text/plain": [
       "\n",
       "Call:\n",
       "lm(formula = NumWeigh ~ Treatment + Age, data = dat)\n",
       "\n",
       "Residuals:\n",
       "    Min      1Q  Median      3Q     Max \n",
       "-181.30  -67.24   -9.76   60.00  211.56 \n",
       "\n",
       "Coefficients:\n",
       "            Estimate Std. Error t value Pr(>|t|)    \n",
       "(Intercept)  36.8759    30.3911   1.213  0.22651    \n",
       "Treatment    65.7413    12.9139   5.091 8.62e-07 ***\n",
       "Age           2.2689     0.8515   2.665  0.00837 ** \n",
       "---\n",
       "Signif. codes:  0 '***' 0.001 '**' 0.01 '*' 0.05 '.' 0.1 ' ' 1\n",
       "\n",
       "Residual standard error: 88.46 on 188 degrees of freedom\n",
       "Multiple R-squared:  0.1619,\tAdjusted R-squared:  0.153 \n",
       "F-statistic: 18.16 on 2 and 188 DF,  p-value: 6.181e-08\n"
      ]
     },
     "metadata": {},
     "output_type": "display_data"
    }
   ],
   "source": [
    "# Outcome model with confounders\n",
    "out.fit <- lm(NumWeigh ~ Treatment + Age, data = dat)\n",
    "summary(out.fit)"
   ]
  },
  {
   "cell_type": "markdown",
   "metadata": {},
   "source": [
    "#### **Permutation test: Self-weight ~ treatment assignment**"
   ]
  },
  {
   "cell_type": "code",
   "execution_count": 21,
   "metadata": {},
   "outputs": [
    {
     "name": "stdout",
     "output_type": "stream",
     "text": [
      "The mean Self-weighing for intervention is: 183.2621 \n",
      "The mean Self-weighing for no intervention is: 113.8636 \n",
      "The absolute t-test statistic is:  5.334704 \n",
      "Number of permutation sample: 10000 \n",
      "P-value with t-test for 10000 samples is 0 .\n"
     ]
    },
    {
     "data": {
      "image/png": "[encoded data removed]",
      "text/plain": [
       "Plot with title \"Self-weighing\""
      ]
     },
     "metadata": {
      "image/png": {
       "height": 300,
       "width": 600
      }
     },
     "output_type": "display_data"
    },
    {
     "data": {
      "image/png": "[encoded data removed]",
      "text/plain": [
       "Plot with title \"Permutation Test Stats\""
      ]
     },
     "metadata": {
      "image/png": {
       "height": 300,
       "width": 600
      }
     },
     "output_type": "display_data"
    }
   ],
   "source": [
    "getPermut(dat$NumWeigh, dat$Treatment, P = 10000, IVname = \"Self-weighing\")"
   ]
  },
  {
   "cell_type": "markdown",
   "metadata": {},
   "source": [
    "#### **Regression of 4-month weight loss on the treatment.**"
   ]
  },
  {
   "cell_type": "code",
   "execution_count": 22,
   "metadata": {},
   "outputs": [
    {
     "data": {
      "text/plain": [
       "\n",
       "Call:\n",
       "lm(formula = WeightLoss4Month ~ Treatment + Age, data = dat)\n",
       "\n",
       "Residuals:\n",
       "     Min       1Q   Median       3Q      Max \n",
       "-0.06795 -0.02433 -0.00409  0.01578  0.18390 \n",
       "\n",
       "Coefficients:\n",
       "              Estimate Std. Error t value Pr(>|t|)    \n",
       "(Intercept) -0.0204494  0.0127192  -1.608    0.110    \n",
       "Treatment    0.0311281  0.0054047   5.759 3.39e-08 ***\n",
       "Age          0.0007652  0.0003563   2.147    0.033 *  \n",
       "---\n",
       "Signif. codes:  0 '***' 0.001 '**' 0.01 '*' 0.05 '.' 0.1 ' ' 1\n",
       "\n",
       "Residual standard error: 0.03702 on 188 degrees of freedom\n",
       "Multiple R-squared:  0.1786,\tAdjusted R-squared:  0.1698 \n",
       "F-statistic: 20.44 on 2 and 188 DF,  p-value: 9.31e-09\n"
      ]
     },
     "metadata": {},
     "output_type": "display_data"
    }
   ],
   "source": [
    "# Outcome model with confounders\n",
    "out.fit <- lm(WeightLoss4Month ~ Treatment + Age, data = dat)\n",
    "summary(out.fit)"
   ]
  },
  {
   "cell_type": "markdown",
   "metadata": {},
   "source": [
    "#### **Permutation test: 4-month weight loss ~ treatment assignment**"
   ]
  },
  {
   "cell_type": "code",
   "execution_count": 23,
   "metadata": {},
   "outputs": [
    {
     "name": "stdout",
     "output_type": "stream",
     "text": [
      "The mean 4-month weight loss for intervention is: 0.03787648 \n",
      "The mean 4-month weight loss for no intervention is: 0.005514997 \n",
      "The absolute t-test statistic is:  6.115735 \n",
      "Number of permutation sample: 10000 \n",
      "P-value with t-test for 10000 samples is 0 .\n"
     ]
    },
    {
     "data": {
      "image/png": "[encoded data removed]",
      "text/plain": [
       "Plot with title \"4-month weight loss\""
      ]
     },
     "metadata": {
      "image/png": {
       "height": 300,
       "width": 600
      }
     },
     "output_type": "display_data"
    },
    {
     "data": {
      "image/png": "[encoded data removed]",
      "text/plain": [
       "Plot with title \"Permutation Test Stats\""
      ]
     },
     "metadata": {
      "image/png": {
       "height": 300,
       "width": 600
      }
     },
     "output_type": "display_data"
    }
   ],
   "source": [
    "getPermut(dat$WeightLoss4Month, dat$Treatment, P = 10000, IVname = \"4-month weight loss\")"
   ]
  },
  {
   "cell_type": "markdown",
   "metadata": {},
   "source": [
    "***We confirmed that the treatment has a statistically significant predictive capability on all potential mediators except for the app-calories and the app-exercise. We considered only app-use, self-weight and the 4-month weight loss variables for the mediation analysis for the 12 month-weight loss.***"
   ]
  },
  {
   "cell_type": "markdown",
   "metadata": {},
   "source": [
    "---\n",
    "## Mediation"
   ]
  },
  {
   "cell_type": "markdown",
   "metadata": {},
   "source": [
    "**Our function `getMediationTable` to estimate the Average Causal Mediation Effect (ACME) and the Average Direct Effect (ADE) associated with each mediator is based on  the `mediation` library.**"
   ]
  },
  {
   "cell_type": "code",
   "execution_count": 24,
   "metadata": {},
   "outputs": [
    {
     "name": "stderr",
     "output_type": "stream",
     "text": [
      "Running nonparametric bootstrap\n",
      "\n",
      "\n",
      "Running nonparametric bootstrap\n",
      "\n",
      "\n",
      "Running nonparametric bootstrap\n",
      "\n",
      "\n",
      "Running nonparametric bootstrap\n",
      "\n",
      "\n"
     ]
    }
   ],
   "source": [
    "numFile <- 2\n",
    "# rslts <- getMediationTable(dat, numFile, myRobustSE = TRUE, numSims = 10000, confLvl = 0.90) \n",
    "rslts <- getMediationTable(dat, numFile, myBoot = TRUE, numSims = 10000, confLvl = 0.90)"
   ]
  },
  {
   "cell_type": "markdown",
   "metadata": {},
   "source": [
    "### **Mediation Results** \n"
   ]
  },
  {
   "cell_type": "code",
   "execution_count": 25,
   "metadata": {},
   "outputs": [
    {
     "data": {
      "text/html": [
       "<table>\n",
       " <thead>\n",
       "  <tr>\n",
       "   <th style=\"text-align:left;\">   </th>\n",
       "   <th style=\"text-align:right;\"> Total Effect </th>\n",
       "   <th style=\"text-align:right;\"> Lower CI </th>\n",
       "   <th style=\"text-align:right;\"> Upper CI </th>\n",
       "   <th style=\"text-align:right;\"> ADE </th>\n",
       "   <th style=\"text-align:right;\"> Lower CI </th>\n",
       "   <th style=\"text-align:right;\"> Upper CI </th>\n",
       "   <th style=\"text-align:right;\"> ACME </th>\n",
       "   <th style=\"text-align:right;\"> Lower CI </th>\n",
       "   <th style=\"text-align:right;\"> Upper CI </th>\n",
       "   <th style=\"text-align:right;\"> Prop. Mediated </th>\n",
       "  </tr>\n",
       " </thead>\n",
       "<tbody>\n",
       "  <tr>\n",
       "   <td style=\"text-align:left;font-weight: bold;color: black !important;\"> App-use </td>\n",
       "   <td style=\"text-align:right;font-weight: bold;color: steelblue !important;\"> 0.0231 </td>\n",
       "   <td style=\"text-align:right;font-weight: bold;color: sienna !important;\"> 0.01052 </td>\n",
       "   <td style=\"text-align:right;font-weight: bold;color: sienna !important;\"> 0.03551 </td>\n",
       "   <td style=\"text-align:right;font-weight: bold;color: steelblue !important;\"> 0.00385 </td>\n",
       "   <td style=\"text-align:right;font-weight: bold;color: sienna !important;\"> -0.01187 </td>\n",
       "   <td style=\"text-align:right;font-weight: bold;color: sienna !important;\"> 0.01949 </td>\n",
       "   <td style=\"text-align:right;font-weight: bold;color: steelblue !important;\"> 0.01926 </td>\n",
       "   <td style=\"text-align:right;font-weight: bold;color: sienna !important;\"> 0.00967 </td>\n",
       "   <td style=\"text-align:right;font-weight: bold;color: sienna !important;\"> 0.02990 </td>\n",
       "   <td style=\"text-align:right;font-weight: bold;color: black !important;\"> 0.83353 </td>\n",
       "  </tr>\n",
       "  <tr>\n",
       "   <td style=\"text-align:left;font-weight: bold;color: black !important;\"> App-Cal </td>\n",
       "   <td style=\"text-align:right;font-weight: bold;color: steelblue !important;\"> 0.0231 </td>\n",
       "   <td style=\"text-align:right;font-weight: bold;color: sienna !important;\"> 0.01076 </td>\n",
       "   <td style=\"text-align:right;font-weight: bold;color: sienna !important;\"> 0.03543 </td>\n",
       "   <td style=\"text-align:right;font-weight: bold;color: steelblue !important;\"> 0.02263 </td>\n",
       "   <td style=\"text-align:right;font-weight: bold;color: sienna !important;\"> 0.01012 </td>\n",
       "   <td style=\"text-align:right;font-weight: bold;color: sienna !important;\"> 0.03486 </td>\n",
       "   <td style=\"text-align:right;font-weight: bold;color: steelblue !important;\"> 0.00047 </td>\n",
       "   <td style=\"text-align:right;font-weight: bold;color: sienna !important;\"> -0.00064 </td>\n",
       "   <td style=\"text-align:right;font-weight: bold;color: sienna !important;\"> 0.00251 </td>\n",
       "   <td style=\"text-align:right;font-weight: bold;color: black !important;\"> 0.02042 </td>\n",
       "  </tr>\n",
       "  <tr>\n",
       "   <td style=\"text-align:left;font-weight: bold;color: black !important;\"> Self-weight </td>\n",
       "   <td style=\"text-align:right;font-weight: bold;color: steelblue !important;\"> 0.0231 </td>\n",
       "   <td style=\"text-align:right;font-weight: bold;color: sienna !important;\"> 0.01076 </td>\n",
       "   <td style=\"text-align:right;font-weight: bold;color: sienna !important;\"> 0.03572 </td>\n",
       "   <td style=\"text-align:right;font-weight: bold;color: steelblue !important;\"> 0.00955 </td>\n",
       "   <td style=\"text-align:right;font-weight: bold;color: sienna !important;\"> -0.00150 </td>\n",
       "   <td style=\"text-align:right;font-weight: bold;color: sienna !important;\"> 0.02073 </td>\n",
       "   <td style=\"text-align:right;font-weight: bold;color: steelblue !important;\"> 0.01356 </td>\n",
       "   <td style=\"text-align:right;font-weight: bold;color: sienna !important;\"> 0.00793 </td>\n",
       "   <td style=\"text-align:right;font-weight: bold;color: sienna !important;\"> 0.02021 </td>\n",
       "   <td style=\"text-align:right;font-weight: bold;color: black !important;\"> 0.58675 </td>\n",
       "  </tr>\n",
       "  <tr>\n",
       "   <td style=\"text-align:left;font-weight: bold;color: black !important;\"> 4 Months Weight Loss </td>\n",
       "   <td style=\"text-align:right;font-weight: bold;color: steelblue !important;\"> 0.0231 </td>\n",
       "   <td style=\"text-align:right;font-weight: bold;color: sienna !important;\"> 0.01044 </td>\n",
       "   <td style=\"text-align:right;font-weight: bold;color: sienna !important;\"> 0.03550 </td>\n",
       "   <td style=\"text-align:right;font-weight: bold;color: steelblue !important;\"> -0.00175 </td>\n",
       "   <td style=\"text-align:right;font-weight: bold;color: sienna !important;\"> -0.01253 </td>\n",
       "   <td style=\"text-align:right;font-weight: bold;color: sienna !important;\"> 0.00892 </td>\n",
       "   <td style=\"text-align:right;font-weight: bold;color: steelblue !important;\"> 0.02485 </td>\n",
       "   <td style=\"text-align:right;font-weight: bold;color: sienna !important;\"> 0.01676 </td>\n",
       "   <td style=\"text-align:right;font-weight: bold;color: sienna !important;\"> 0.03367 </td>\n",
       "   <td style=\"text-align:right;font-weight: bold;color: black !important;\"> 1.07582 </td>\n",
       "  </tr>\n",
       "</tbody>\n",
       "</table>"
      ]
     },
     "metadata": {},
     "output_type": "display_data"
    }
   ],
   "source": [
    "rslts$med.tbl %>% round(5)%>%\n",
    "  kable(\"html\") %>% \n",
    "  column_spec(c(1), bold = T, color = \"black\") %>%\n",
    "  column_spec(c(2, 5, 8), bold = T, color = \"steelblue\") %>%\n",
    "  column_spec(c(3, 4, 6, 7, 9, 10), bold = T, color = \"sienna\") %>%\n",
    "  column_spec(c(11), bold = T, color = \"black\")%>%\n",
    "  as.character() %>%\n",
    "  display_html()"
   ]
  },
  {
   "cell_type": "markdown",
   "metadata": {},
   "source": [
    "---\n",
    "## Sensitivity Analysis"
   ]
  },
  {
   "cell_type": "code",
   "execution_count": 26,
   "metadata": {},
   "outputs": [],
   "source": [
    "# Sensitivity for the 4-month weight loss\n",
    "sens4Month.out <- medsens(rslts$med.rslts$med4Month.out, rho.by = 0.01, effect.type = \"indirect\", sims = 10000)"
   ]
  },
  {
   "cell_type": "code",
   "execution_count": 27,
   "metadata": {},
   "outputs": [],
   "source": [
    "# Sensitivity for the app-use\n",
    "sensApp.out <- medsens(rslts$med.rslts$medApp.out, rho.by = 0.01, effect.type = \"indirect\", sims = 10000)\n",
    "# Sensitivity for the self-weight\n",
    "sensNumW.out <- medsens(rslts$med.rslts$medNumW.out, rho.by = 0.01, effect.type = \"indirect\", sims = 10000)"
   ]
  },
  {
   "cell_type": "markdown",
   "metadata": {},
   "source": [
    "### 4-month weight loss"
   ]
  },
  {
   "cell_type": "markdown",
   "metadata": {},
   "source": [
    "#### Results"
   ]
  },
  {
   "cell_type": "code",
   "execution_count": 28,
   "metadata": {},
   "outputs": [
    {
     "data": {
      "text/plain": [
       "\n",
       "Mediation Sensitivity Analysis for Average Causal Mediation Effect\n",
       "\n",
       "Sensitivity Region\n",
       "\n",
       "       Rho    ACME 90% CI Lower 90% CI Upper R^2_M*R^2_Y* R^2_M~R^2_Y~\n",
       " [1,] 0.48  0.0045      -0.0001       0.0091       0.2304       0.1191\n",
       " [2,] 0.49  0.0040      -0.0006       0.0086       0.2401       0.1241\n",
       " [3,] 0.50  0.0034      -0.0011       0.0079       0.2500       0.1292\n",
       " [4,] 0.51  0.0028      -0.0017       0.0073       0.2601       0.1345\n",
       " [5,] 0.52  0.0022      -0.0022       0.0067       0.2704       0.1398\n",
       " [6,] 0.53  0.0016      -0.0028       0.0061       0.2809       0.1452\n",
       " [7,] 0.54  0.0010      -0.0034       0.0055       0.2916       0.1507\n",
       " [8,] 0.55  0.0004      -0.0040       0.0048       0.3025       0.1564\n",
       " [9,] 0.56 -0.0002      -0.0047       0.0042       0.3136       0.1621\n",
       "[10,] 0.57 -0.0009      -0.0053       0.0035       0.3249       0.1679\n",
       "[11,] 0.58 -0.0016      -0.0060       0.0029       0.3364       0.1739\n",
       "[12,] 0.59 -0.0023      -0.0068       0.0022       0.3481       0.1799\n",
       "[13,] 0.60 -0.0030      -0.0075       0.0015       0.3600       0.1861\n",
       "[14,] 0.61 -0.0037      -0.0083       0.0008       0.3721       0.1923\n",
       "[15,] 0.62 -0.0045      -0.0091       0.0001       0.3844       0.1987\n",
       "\n",
       "Rho at which ACME = 0: 0.56\n",
       "R^2_M*R^2_Y* at which ACME = 0: 0.3136\n",
       "R^2_M~R^2_Y~ at which ACME = 0: 0.1621 \n"
      ]
     },
     "metadata": {},
     "output_type": "display_data"
    }
   ],
   "source": [
    "summary(sens4Month.out)"
   ]
  },
  {
   "cell_type": "markdown",
   "metadata": {},
   "source": [
    "#### Sensitivity with respect to error correlation"
   ]
  },
  {
   "cell_type": "code",
   "execution_count": 29,
   "metadata": {},
   "outputs": [
    {
     "data": {
      "image/png": "[encoded data removed]",
      "text/plain": [
       "Plot with title \"paste(\"App-use ACME(\", rho, \")\")\""
      ]
     },
     "metadata": {
      "image/png": {
       "height": 420,
       "width": 600
      }
     },
     "output_type": "display_data"
    }
   ],
   "source": [
    "options(repr.plot.width = 10, repr.plot.height = 7)\n",
    "plot(sens4Month.out,  ylim = c(-0.18, 0.18), main  =  expression(paste(\"App-use ACME(\", rho, \")\")))"
   ]
  },
  {
   "cell_type": "markdown",
   "metadata": {},
   "source": [
    "The above figure shows the estimated true values of ACMEs as a function of the sensitivity parameter $\\rho$. The parameter $\\rho$\n",
    "expresses the correlation between the error terms in the mediator and the outcome models. The solid thick line and its shaded area represent the ACME's point estimates and their 90% confidence intervals, respectively.    \n",
    "According to this analysis, the ACME is estimated to be negative when  $\\rho$ is larger than 0.56, and the ACME is statistically indistinguishable from zero at the 90% level when the parameter $\\rho$ is larger than 0.48 and less than 0.62."
   ]
  },
  {
   "cell_type": "markdown",
   "metadata": {},
   "source": [
    "#### Sensitivity with respect to proportion of variance explained"
   ]
  },
  {
   "cell_type": "code",
   "execution_count": 30,
   "metadata": {},
   "outputs": [
    {
     "data": {
      "image/png": "[encoded data removed]",
      "text/plain": [
       "Plot with title \"paste\"",
       "Plot with title \"paste(\"ACME\")\"",
       "Plot with title \"(\"",
       "Plot with title \"tilde(R)[M]^{\n    2\n}\"",
       "Plot with title \",\"",
       "Plot with title \"tilde(R)[Y]^2\"",
       "Plot with title \"), sgn\"",
       "Plot with title \"(lambda[2] * lambda[3]) == \"1\"\""
      ]
     },
     "metadata": {
      "image/png": {
       "height": 420,
       "width": 600
      }
     },
     "output_type": "display_data"
    }
   ],
   "source": [
    "plot(sens4Month.out, sens.par = \"R2\", r.type = \"total\", sign.prod = \"positive\",\n",
    "     xlim = c(-0.0, 0.8), ylim = c(-0.0, 0.65))"
   ]
  },
  {
   "cell_type": "markdown",
   "metadata": {},
   "source": [
    "In the sensitivity analyses plot above, the ACME estimates are plotted against $\\tilde{R}^2_Y \\tilde{R}^2_M$, the proportions of the total variance in the outcome and mediator variables, respectively, that would be explained by a hypothetical unobserved pretreatment confounder.\n",
    "The bold line represents the various product combinations in terms of the coefficient of determination where the ACME would become 0. In this case, the estimated ACME will be 0 if the product of $\\tilde{R}^2_M$ and $\\tilde{R}^2_Y$ is 0.1621. For example, this implies that an unobserved pretreatment confounder would explain 20% of the variation in the participants’ app-use and 81.05% of the variation in their weight loss."
   ]
  },
  {
   "cell_type": "markdown",
   "metadata": {},
   "source": [
    "### App-use"
   ]
  },
  {
   "cell_type": "markdown",
   "metadata": {},
   "source": [
    "#### Results"
   ]
  },
  {
   "cell_type": "code",
   "execution_count": 31,
   "metadata": {},
   "outputs": [
    {
     "data": {
      "text/plain": [
       "\n",
       "Mediation Sensitivity Analysis for Average Causal Mediation Effect\n",
       "\n",
       "Sensitivity Region\n",
       "\n",
       "       Rho    ACME 90% CI Lower 90% CI Upper R^2_M*R^2_Y* R^2_M~R^2_Y~\n",
       " [1,] 0.14  0.0085      -0.0007       0.0177       0.0196       0.0102\n",
       " [2,] 0.15  0.0077      -0.0015       0.0169       0.0225       0.0117\n",
       " [3,] 0.16  0.0069      -0.0022       0.0161       0.0256       0.0134\n",
       " [4,] 0.17  0.0061      -0.0030       0.0153       0.0289       0.0151\n",
       " [5,] 0.18  0.0053      -0.0038       0.0144       0.0324       0.0169\n",
       " [6,] 0.19  0.0045      -0.0046       0.0136       0.0361       0.0188\n",
       " [7,] 0.20  0.0037      -0.0054       0.0128       0.0400       0.0209\n",
       " [8,] 0.21  0.0029      -0.0062       0.0120       0.0441       0.0230\n",
       " [9,] 0.22  0.0021      -0.0070       0.0112       0.0484       0.0253\n",
       "[10,] 0.23  0.0013      -0.0078       0.0103       0.0529       0.0276\n",
       "[11,] 0.24  0.0004      -0.0087       0.0095       0.0576       0.0301\n",
       "[12,] 0.25 -0.0004      -0.0095       0.0087       0.0625       0.0326\n",
       "[13,] 0.26 -0.0012      -0.0103       0.0078       0.0676       0.0353\n",
       "[14,] 0.27 -0.0021      -0.0112       0.0070       0.0729       0.0381\n",
       "[15,] 0.28 -0.0030      -0.0120       0.0061       0.0784       0.0409\n",
       "[16,] 0.29 -0.0038      -0.0129       0.0053       0.0841       0.0439\n",
       "[17,] 0.30 -0.0047      -0.0138       0.0044       0.0900       0.0470\n",
       "[18,] 0.31 -0.0056      -0.0147       0.0036       0.0961       0.0502\n",
       "[19,] 0.32 -0.0065      -0.0156       0.0027       0.1024       0.0535\n",
       "[20,] 0.33 -0.0074      -0.0165       0.0018       0.1089       0.0569\n",
       "[21,] 0.34 -0.0083      -0.0175       0.0009       0.1156       0.0603\n",
       "[22,] 0.35 -0.0092      -0.0184       0.0000       0.1225       0.0640\n",
       "\n",
       "Rho at which ACME = 0: 0.25\n",
       "R^2_M*R^2_Y* at which ACME = 0: 0.0625\n",
       "R^2_M~R^2_Y~ at which ACME = 0: 0.0326 \n"
      ]
     },
     "metadata": {},
     "output_type": "display_data"
    }
   ],
   "source": [
    "summary(sensApp.out)"
   ]
  },
  {
   "cell_type": "markdown",
   "metadata": {},
   "source": [
    "#### Sensitivity with respect to error correlation"
   ]
  },
  {
   "cell_type": "code",
   "execution_count": 32,
   "metadata": {},
   "outputs": [
    {
     "data": {
      "image/png": "[encoded data removed]",
      "text/plain": [
       "Plot with title \"paste(\"App-use ACME(\", rho, \")\")\""
      ]
     },
     "metadata": {
      "image/png": {
       "height": 420,
       "width": 600
      }
     },
     "output_type": "display_data"
    }
   ],
   "source": [
    "options(repr.plot.width = 10, repr.plot.height = 7)\n",
    "plot(sensApp.out,  ylim = c(-0.18, 0.18), main  =  expression(paste(\"App-use ACME(\", rho, \")\")))"
   ]
  },
  {
   "cell_type": "markdown",
   "metadata": {},
   "source": [
    "The above figure shows the estimated true values of ACMEs as a function of the sensitivity parameter $\\rho$. The parameter $\\rho$\n",
    "expresses the correlation between the error terms in the mediator and the outcome models. The solid thick line and its shaded area represent the ACME's point estimates and their 90% confidence intervals, respectively.    \n",
    "According to this analysis, the ACME is estimated to be negative when  $\\rho$ is larger than 0.25, and the ACME is statistically indistinguishable from zero at the 90% level when the parameter $\\rho$ is larger than 0.14 and less than 0.35."
   ]
  },
  {
   "cell_type": "markdown",
   "metadata": {},
   "source": [
    "#### Sensitivity with respect to proportion of variance explained"
   ]
  },
  {
   "cell_type": "code",
   "execution_count": 33,
   "metadata": {},
   "outputs": [
    {
     "data": {
      "image/png": "[encoded data removed]",
      "text/plain": [
       "Plot with title \"paste\"",
       "Plot with title \"paste(\"ACME\")\"",
       "Plot with title \"(\"",
       "Plot with title \"tilde(R)[M]^{\n    2\n}\"",
       "Plot with title \",\"",
       "Plot with title \"tilde(R)[Y]^2\"",
       "Plot with title \"), sgn\"",
       "Plot with title \"(lambda[2] * lambda[3]) == \"1\"\""
      ]
     },
     "metadata": {
      "image/png": {
       "height": 420,
       "width": 600
      }
     },
     "output_type": "display_data"
    }
   ],
   "source": [
    "plot(sensApp.out, sens.par = \"R2\", r.type = \"total\", sign.prod = \"positive\",\n",
    "     xlim = c(-0.0, 0.6), ylim = c(-0.0, 0.85))"
   ]
  },
  {
   "cell_type": "markdown",
   "metadata": {},
   "source": [
    "In the sensitivity analyses plot above, the ACME estimates are plotted against $\\tilde{R}^2_Y \\tilde{R}^2_M$, the proportions of the total variance in the outcome and mediator variables, respectively, that would be explained by a hypothetical unobserved pretreatment confounder.\n",
    "The bold line represents the various product combinations in terms of the coefficient of determination where the ACME would become 0. In this case, the estimated ACME will be 0 if the product of $\\tilde{R}^2_M$ and $\\tilde{R}^2_Y$ is 0.0326. For example, this implies that an unobserved pretreatment confounder would explain 20% of the variation in the participants’ app-use and 16.3 of the variation in their weight loss.\n"
   ]
  },
  {
   "cell_type": "markdown",
   "metadata": {},
   "source": [
    "### Self-weight"
   ]
  },
  {
   "cell_type": "markdown",
   "metadata": {},
   "source": [
    "#### Results"
   ]
  },
  {
   "cell_type": "code",
   "execution_count": 34,
   "metadata": {},
   "outputs": [
    {
     "data": {
      "text/plain": [
       "\n",
       "Mediation Sensitivity Analysis for Average Causal Mediation Effect\n",
       "\n",
       "Sensitivity Region\n",
       "\n",
       "       Rho    ACME 90% CI Lower 90% CI Upper R^2_M*R^2_Y* R^2_M~R^2_Y~\n",
       " [1,] 0.24  0.0044      -0.0003       0.0090       0.0576       0.0388\n",
       " [2,] 0.25  0.0040      -0.0006       0.0086       0.0625       0.0421\n",
       " [3,] 0.26  0.0036      -0.0010       0.0081       0.0676       0.0455\n",
       " [4,] 0.27  0.0032      -0.0014       0.0077       0.0729       0.0491\n",
       " [5,] 0.28  0.0027      -0.0018       0.0072       0.0784       0.0528\n",
       " [6,] 0.29  0.0023      -0.0022       0.0068       0.0841       0.0567\n",
       " [7,] 0.30  0.0019      -0.0026       0.0064       0.0900       0.0606\n",
       " [8,] 0.31  0.0015      -0.0030       0.0059       0.0961       0.0647\n",
       " [9,] 0.32  0.0010      -0.0034       0.0055       0.1024       0.0690\n",
       "[10,] 0.33  0.0006      -0.0038       0.0050       0.1089       0.0734\n",
       "[11,] 0.34  0.0002      -0.0043       0.0046       0.1156       0.0779\n",
       "[12,] 0.35 -0.0003      -0.0047       0.0041       0.1225       0.0825\n",
       "[13,] 0.36 -0.0007      -0.0052       0.0037       0.1296       0.0873\n",
       "[14,] 0.37 -0.0012      -0.0057       0.0032       0.1369       0.0922\n",
       "[15,] 0.38 -0.0017      -0.0061       0.0028       0.1444       0.0973\n",
       "[16,] 0.39 -0.0022      -0.0066       0.0023       0.1521       0.1025\n",
       "[17,] 0.40 -0.0026      -0.0071       0.0019       0.1600       0.1078\n",
       "[18,] 0.41 -0.0031      -0.0077       0.0014       0.1681       0.1133\n",
       "[19,] 0.42 -0.0036      -0.0082       0.0010       0.1764       0.1188\n",
       "[20,] 0.43 -0.0041      -0.0087       0.0005       0.1849       0.1246\n",
       "[21,] 0.44 -0.0046      -0.0093       0.0001       0.1936       0.1304\n",
       "\n",
       "Rho at which ACME = 0: 0.34\n",
       "R^2_M*R^2_Y* at which ACME = 0: 0.1156\n",
       "R^2_M~R^2_Y~ at which ACME = 0: 0.0779 \n"
      ]
     },
     "metadata": {},
     "output_type": "display_data"
    }
   ],
   "source": [
    "summary(sensNumW.out)"
   ]
  },
  {
   "cell_type": "markdown",
   "metadata": {},
   "source": [
    "#### Sensitivity with respect to error correlation"
   ]
  },
  {
   "cell_type": "code",
   "execution_count": 35,
   "metadata": {},
   "outputs": [
    {
     "data": {
      "image/png": "[encoded data removed]",
      "text/plain": [
       "Plot with title \"paste(\"Self-weight ACME(\", rho, \")\")\""
      ]
     },
     "metadata": {
      "image/png": {
       "height": 420,
       "width": 600
      }
     },
     "output_type": "display_data"
    }
   ],
   "source": [
    "plot(sensNumW.out,  ylim = c(-0.18, 0.18), main  =  expression(paste(\"Self-weight ACME(\", rho, \")\")))"
   ]
  },
  {
   "cell_type": "markdown",
   "metadata": {},
   "source": [
    "The above figure shows the estimated true values of ACMEs as a function of the sensitivity parameter $\\rho$. The parameter $\\rho$\n",
    "expresses the correlation between the error terms in the mediator and the outcome models. The solid thick line and its shaded area represent the ACME's point estimates and their 90% confidence intervals, respectively.    \n",
    "According to this analysis, the ACME is estimated to be negative when  $\\rho$ is larger than 0.34, and the ACME is statistically indistinguishable from zero at the 90% level when the parameter $\\rho$ is larger than 0.24 and less than 0.44."
   ]
  },
  {
   "cell_type": "markdown",
   "metadata": {},
   "source": [
    "### Sensitivity with respect to proportion of variance explained"
   ]
  },
  {
   "cell_type": "code",
   "execution_count": 36,
   "metadata": {},
   "outputs": [
    {
     "data": {
      "image/png": "[encoded data removed]",
      "text/plain": [
       "Plot with title \"paste\"",
       "Plot with title \"paste(\"ACME\")\"",
       "Plot with title \"(\"",
       "Plot with title \"tilde(R)[M]^{\n    2\n}\"",
       "Plot with title \",\"",
       "Plot with title \"tilde(R)[Y]^2\"",
       "Plot with title \"), sgn\"",
       "Plot with title \"(lambda[2] * lambda[3]) == \"1\"\""
      ]
     },
     "metadata": {
      "image/png": {
       "height": 420,
       "width": 600
      }
     },
     "output_type": "display_data"
    }
   ],
   "source": [
    "plot(sensNumW.out, sens.par = \"R2\", r.type = \"total\", sign.prod = \"positive\",\n",
    "     xlim = c(-0.0, 0.7), ylim = c(-0.0, 0.7))"
   ]
  },
  {
   "cell_type": "markdown",
   "metadata": {},
   "source": [
    "In the sensitivity analyses plot above, the ACME estimates are plotted against $\\tilde{R}^2_Y \\tilde{R}^2_M$, the proportions of the total variance in the outcome and mediator variables, respectively, that would be explained by a hypothetical unobserved pretreatment confounder.\n",
    "The bold line represents the various product combinations in terms of the coefficient of determination where the ACME would become 0. In this case, the estimated ACME will be 0 if the product of $\\tilde{R}^2_M$ and $\\tilde{R}^2_Y$ is 0.0779. For example, this implies that an unobserved pretreatment confounder would explain 20% of the variation in the participants’ app-use and 38.95% of the variation in their weight loss."
   ]
  },
  {
   "cell_type": "markdown",
   "metadata": {},
   "source": [
    "## Conclusion"
   ]
  },
  {
   "cell_type": "markdown",
   "metadata": {},
   "source": [
    "Overall, the results suggest that under the assumption of independence between mechanisms, the causal mediation effects are positive and not significant for the app-use and it is significant for the self weight and for the 4-month weight loss mediator, and the estimates for the 4-month weight loss showed robustness to the\n",
    "possible unobserved pretreatment mediator–outcome confounding to varying degrees. However, the estimates for app-use are not robust to the\n",
    "possible unobserved pretreatment mediator–outcome confounding to varying degrees. The results of the mediation analysis confirmed that there are no sufficient evidence to detect a mediation effect from the app-calories variable.   "
   ]
  },
  {
   "cell_type": "code",
   "execution_count": 37,
   "metadata": {},
   "outputs": [
    {
     "data": {
      "text/plain": [
       "R version 4.0.5 (2021-03-31)\n",
       "Platform: x86_64-w64-mingw32/x64 (64-bit)\n",
       "Running under: Windows 10 x64 (build 19042)\n",
       "\n",
       "Matrix products: default\n",
       "\n",
       "locale:\n",
       "[1] LC_COLLATE=English_United States.1252 \n",
       "[2] LC_CTYPE=English_United States.1252   \n",
       "[3] LC_MONETARY=English_United States.1252\n",
       "[4] LC_NUMERIC=C                          \n",
       "[5] LC_TIME=English_United States.1252    \n",
       "\n",
       "attached base packages:\n",
       "[1] stats     graphics  grDevices utils     datasets  methods   base     \n",
       "\n",
       "other attached packages:\n",
       " [1] vioplot_0.3.5     zoo_1.8-8         sm_2.2-5.6        IRdisplay_1.0    \n",
       " [5] kableExtra_1.3.4  mosaic_1.8.3      ggridges_0.5.3    mosaicData_0.20.2\n",
       " [9] ggformula_0.10.1  ggstance_0.3.5    lattice_0.20-41   mediation_4.5.0  \n",
       "[13] sandwich_3.0-0    mvtnorm_1.1-1     Matrix_1.3-2      MASS_7.3-53.1    \n",
       "[17] corrplot_0.84     factoextra_1.0.7  FactoMineR_2.4    forcats_0.5.1    \n",
       "[21] stringr_1.4.0     purrr_0.3.4       readr_1.4.0       tidyr_1.1.2      \n",
       "[25] tibble_3.1.1      ggplot2_3.3.3     tidyverse_1.3.0   dplyr_1.0.4      \n",
       "\n",
       "loaded via a namespace (and not attached):\n",
       "  [1] readxl_1.3.1         uuid_0.1-4           backports_1.2.1     \n",
       "  [4] Hmisc_4.5-0          systemfonts_1.0.1    plyr_1.8.6          \n",
       "  [7] repr_1.1.3           splines_4.0.5        crosstalk_1.1.1     \n",
       " [10] leaflet_2.0.4.1      digest_0.6.27        htmltools_0.5.1.1   \n",
       " [13] fansi_0.4.2          magrittr_2.0.1       checkmate_2.0.0     \n",
       " [16] cluster_2.1.1        mosaicCore_0.9.0     openxlsx_4.2.3      \n",
       " [19] modelr_0.1.8         svglite_2.0.0        lpSolve_5.6.15      \n",
       " [22] jpeg_0.1-8.1         colorspace_2.0-0     rvest_0.3.6         \n",
       " [25] ggrepel_0.9.1        haven_2.3.1          xfun_0.21           \n",
       " [28] tcltk_4.0.5          crayon_1.4.1         jsonlite_1.7.2      \n",
       " [31] lme4_1.1-26          survival_3.2-10      glue_1.4.2          \n",
       " [34] polyclip_1.10-0      gtable_0.3.0         webshot_0.5.2       \n",
       " [37] car_3.0-10           abind_1.4-5          scales_1.1.1        \n",
       " [40] DBI_1.1.1            rstatix_0.7.0        Rcpp_1.0.6          \n",
       " [43] viridisLite_0.3.0    htmlTable_2.1.0      flashClust_1.01-2   \n",
       " [46] foreign_0.8-81       Formula_1.2-4        DT_0.17             \n",
       " [49] htmlwidgets_1.5.3    httr_1.4.2           RColorBrewer_1.1-2  \n",
       " [52] ellipsis_0.3.1       pkgconfig_2.0.3      farver_2.1.0        \n",
       " [55] nnet_7.3-15          dbplyr_2.1.0         utf8_1.2.1          \n",
       " [58] labeling_0.4.2       tidyselect_1.1.0     rlang_0.4.10        \n",
       " [61] munsell_0.5.0        cellranger_1.1.0     tools_4.0.5         \n",
       " [64] cli_2.4.0            generics_0.1.0       broom_0.7.5         \n",
       " [67] evaluate_0.14        ggdendro_0.1.22      knitr_1.31          \n",
       " [70] fs_1.5.0             zip_2.1.1            nlme_3.1-152        \n",
       " [73] leaps_3.1            xml2_1.3.2           compiler_4.0.5      \n",
       " [76] rstudioapi_0.13      curl_4.3             png_0.1-7           \n",
       " [79] ggsignif_0.6.1       reprex_1.0.0         statmod_1.4.35      \n",
       " [82] tweenr_1.0.1         stringi_1.5.3        highr_0.8           \n",
       " [85] ps_1.6.0             nloptr_1.2.2.2       vctrs_0.3.7         \n",
       " [88] pillar_1.6.0         lifecycle_1.0.0      data.table_1.14.0   \n",
       " [91] R6_2.5.0             latticeExtra_0.6-29  gridExtra_2.3       \n",
       " [94] rio_0.5.26           boot_1.3-27          assertthat_0.2.1    \n",
       " [97] withr_2.4.2          hms_1.0.0            grid_4.0.5          \n",
       "[100] rpart_4.1-15         labelled_2.7.0       IRkernel_1.1.1      \n",
       "[103] minqa_1.2.4          rmarkdown_2.7        carData_3.0-4       \n",
       "[106] ggpubr_0.4.0         pbdZMQ_0.3-5         ggforce_0.3.2       \n",
       "[109] scatterplot3d_0.3-41 lubridate_1.7.10     base64enc_0.1-3     "
      ]
     },
     "metadata": {},
     "output_type": "display_data"
    }
   ],
   "source": [
    "sessionInfo()"
   ]
  }
 ],
 "metadata": {
  "@webio": {
   "lastCommId": "76c17fdbb6854923853bcb29eeeda5b8",
   "lastKernelId": "f716cdaf-89f3-453b-b7de-f15f6130f3b5"
  },
  "jupytext": {
   "formats": "ipynb,Rmd"
  },
  "kernelspec": {
   "display_name": "R",
   "language": "R",
   "name": "ir"
  },
  "language_info": {
   "codemirror_mode": "r",
   "file_extension": ".r",
   "mimetype": "text/x-r-source",
   "name": "R",
   "pygments_lexer": "r",
   "version": "4.0.5"
  }
 },
 "nbformat": 4,
 "nbformat_minor": 4
}
